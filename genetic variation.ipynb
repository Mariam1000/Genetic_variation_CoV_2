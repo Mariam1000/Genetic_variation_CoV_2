{
 "cells": [
  {
   "cell_type": "markdown",
   "id": "86eb3ea6",
   "metadata": {},
   "source": [
    "### **_Finding the relative consevation % of S gene and NSP3  of Orf1Ab region in SARS-CoV2_**\n"
   ]
  },
  {
   "cell_type": "markdown",
   "id": "fe6f242a",
   "metadata": {},
   "source": [
    "1. Data Acquisition  \n",
    "\n",
    "2. Data cleaning  \n",
    "\n",
    "3. Data Analysis  \n",
    "\n",
    "4. Data visulization  \n"
   ]
  },
  {
   "cell_type": "markdown",
   "id": "56ab6a51",
   "metadata": {},
   "source": [
    "### ______________________________________"
   ]
  },
  {
   "cell_type": "markdown",
   "id": "b1caa9d5",
   "metadata": {},
   "source": [
    " # <font color=green> Step 1: Data Acquisition </font>"
   ]
  },
  {
   "cell_type": "markdown",
   "id": "6dd188fc",
   "metadata": {},
   "source": [
    "### Dataset was obtained from [NCBI Virus](https://www.ncbi.nlm.nih.gov/labs/virus/vssi/#/virus?SeqType_s=Nucleotide&VirusLineage_ss=Severe%20acute%20respiratory%20syndrome%20coronavirus%202%20(SARS-CoV-2),%20taxid:2697049&Completeness_s=complete&Country_s=Egypt)"
   ]
  },
  {
   "cell_type": "markdown",
   "id": "a6183405",
   "metadata": {},
   "source": [
    "* filtered by:\n",
    "    * Nucleotide compltetness: complete\n",
    "    * Geographical Region: Egypt"
   ]
  },
  {
   "cell_type": "markdown",
   "id": "bc6e5bea",
   "metadata": {},
   "source": [
    "**_Download CSV file that contains the genomes info from NCBI Virus_**"
   ]
  },
  {
   "cell_type": "code",
   "execution_count": 1,
   "id": "b3d99e70",
   "metadata": {},
   "outputs": [],
   "source": [
    "import pandas as pd\n"
   ]
  },
  {
   "cell_type": "code",
   "execution_count": 2,
   "id": "ee749cf4",
   "metadata": {},
   "outputs": [],
   "source": [
    "seq_df= pd.read_csv(\"D:/asu project/sequences.csv\")"
   ]
  },
  {
   "cell_type": "code",
   "execution_count": 3,
   "id": "a03571e4",
   "metadata": {
    "scrolled": false
   },
   "outputs": [
    {
     "data": {
      "text/html": [
       "<div>\n",
       "<style scoped>\n",
       "    .dataframe tbody tr th:only-of-type {\n",
       "        vertical-align: middle;\n",
       "    }\n",
       "\n",
       "    .dataframe tbody tr th {\n",
       "        vertical-align: top;\n",
       "    }\n",
       "\n",
       "    .dataframe thead th {\n",
       "        text-align: right;\n",
       "    }\n",
       "</style>\n",
       "<table border=\"1\" class=\"dataframe\">\n",
       "  <thead>\n",
       "    <tr style=\"text-align: right;\">\n",
       "      <th></th>\n",
       "      <th>Accession</th>\n",
       "      <th>Organism_Name</th>\n",
       "      <th>Submitters</th>\n",
       "      <th>Organization</th>\n",
       "      <th>Org_location</th>\n",
       "      <th>Release_Date</th>\n",
       "      <th>Pangolin</th>\n",
       "      <th>PangoVersions</th>\n",
       "      <th>Random_Sampling</th>\n",
       "      <th>Isolate</th>\n",
       "      <th>Species</th>\n",
       "      <th>Molecule_type</th>\n",
       "      <th>Length</th>\n",
       "      <th>Geo_Location</th>\n",
       "      <th>Isolation_Source</th>\n",
       "      <th>Collection_Date</th>\n",
       "    </tr>\n",
       "  </thead>\n",
       "  <tbody>\n",
       "    <tr>\n",
       "      <th>0</th>\n",
       "      <td>OP183416.1</td>\n",
       "      <td>Severe acute respiratory syndrome coronavirus 2</td>\n",
       "      <td>Gad,A.F., Seadawy,M.G., Hanaa,H.A., Mervet,G.H...</td>\n",
       "      <td>Egypt Army, Main Laboratories Of chemical warfare</td>\n",
       "      <td>Egypt</td>\n",
       "      <td>2022-08-09T00:00:00Z</td>\n",
       "      <td>BA.2</td>\n",
       "      <td>4.3/1.20/v0.1.10/0.3.18</td>\n",
       "      <td>NaN</td>\n",
       "      <td>OMICRON-1</td>\n",
       "      <td>Severe acute respiratory syndrome-related coro...</td>\n",
       "      <td>ssRNA(+)</td>\n",
       "      <td>29876</td>\n",
       "      <td>Egypt</td>\n",
       "      <td>oronasopharynx</td>\n",
       "      <td>2022-05-13</td>\n",
       "    </tr>\n",
       "    <tr>\n",
       "      <th>1</th>\n",
       "      <td>OP183417.1</td>\n",
       "      <td>Severe acute respiratory syndrome coronavirus 2</td>\n",
       "      <td>Gad,A.F., Seadawy,M.G., Hanaa,H.A., Mervet,G.H...</td>\n",
       "      <td>Egypt Army, Main Laboratories Of chemical warfare</td>\n",
       "      <td>Egypt</td>\n",
       "      <td>2022-08-09T00:00:00Z</td>\n",
       "      <td>BA.2</td>\n",
       "      <td>4.3/1.20/v0.1.10/0.3.18</td>\n",
       "      <td>NaN</td>\n",
       "      <td>OMICRON-2</td>\n",
       "      <td>Severe acute respiratory syndrome-related coro...</td>\n",
       "      <td>ssRNA(+)</td>\n",
       "      <td>29876</td>\n",
       "      <td>Egypt</td>\n",
       "      <td>oronasopharynx</td>\n",
       "      <td>2022-05-15</td>\n",
       "    </tr>\n",
       "    <tr>\n",
       "      <th>2</th>\n",
       "      <td>OP183418.1</td>\n",
       "      <td>Severe acute respiratory syndrome coronavirus 2</td>\n",
       "      <td>Gad,A.F., Seadawy,M.G., Hanaa,H.A., Mervet,G.H...</td>\n",
       "      <td>Egypt Army, Main Laboratories Of chemical warfare</td>\n",
       "      <td>Egypt</td>\n",
       "      <td>2022-08-09T00:00:00Z</td>\n",
       "      <td>BA.2</td>\n",
       "      <td>4.3/1.20/v0.1.10/0.3.18</td>\n",
       "      <td>NaN</td>\n",
       "      <td>OMICRON-3</td>\n",
       "      <td>Severe acute respiratory syndrome-related coro...</td>\n",
       "      <td>ssRNA(+)</td>\n",
       "      <td>29867</td>\n",
       "      <td>Egypt</td>\n",
       "      <td>oronasopharynx</td>\n",
       "      <td>2022-05-15</td>\n",
       "    </tr>\n",
       "    <tr>\n",
       "      <th>3</th>\n",
       "      <td>OP183419.1</td>\n",
       "      <td>Severe acute respiratory syndrome coronavirus 2</td>\n",
       "      <td>Gad,A.F., Seadawy,M.G., Hanaa,H.A., Mervet,G.H...</td>\n",
       "      <td>Egypt Army, Main Laboratories Of chemical warfare</td>\n",
       "      <td>Egypt</td>\n",
       "      <td>2022-08-09T00:00:00Z</td>\n",
       "      <td>B.1.1.529</td>\n",
       "      <td>4.3/1.20/v0.1.10/0.3.18</td>\n",
       "      <td>NaN</td>\n",
       "      <td>OMICRON-4</td>\n",
       "      <td>Severe acute respiratory syndrome-related coro...</td>\n",
       "      <td>ssRNA(+)</td>\n",
       "      <td>29876</td>\n",
       "      <td>Egypt</td>\n",
       "      <td>oronasopharynx</td>\n",
       "      <td>2022-05-17</td>\n",
       "    </tr>\n",
       "    <tr>\n",
       "      <th>4</th>\n",
       "      <td>OP183420.1</td>\n",
       "      <td>Severe acute respiratory syndrome coronavirus 2</td>\n",
       "      <td>Gad,A.F., Seadawy,M.G., Hanaa,H.A., Mervet,G.H...</td>\n",
       "      <td>Egypt Army, Main Laboratories Of chemical warfare</td>\n",
       "      <td>Egypt</td>\n",
       "      <td>2022-08-09T00:00:00Z</td>\n",
       "      <td>BA.2</td>\n",
       "      <td>4.3/1.20/v0.1.10/0.3.18</td>\n",
       "      <td>NaN</td>\n",
       "      <td>OMICRON-5</td>\n",
       "      <td>Severe acute respiratory syndrome-related coro...</td>\n",
       "      <td>ssRNA(+)</td>\n",
       "      <td>29876</td>\n",
       "      <td>Egypt</td>\n",
       "      <td>oronasopharynx</td>\n",
       "      <td>2022-05-19</td>\n",
       "    </tr>\n",
       "    <tr>\n",
       "      <th>5</th>\n",
       "      <td>OP183421.1</td>\n",
       "      <td>Severe acute respiratory syndrome coronavirus 2</td>\n",
       "      <td>Gad,A.F., Seadawy,M.G., Hanaa,H.A., Mervet,G.H...</td>\n",
       "      <td>Egypt Army, Main Laboratories Of chemical warfare</td>\n",
       "      <td>Egypt</td>\n",
       "      <td>2022-08-09T00:00:00Z</td>\n",
       "      <td>BA.2</td>\n",
       "      <td>4.3/1.20/v0.1.10/0.3.18</td>\n",
       "      <td>NaN</td>\n",
       "      <td>OMICRON-6</td>\n",
       "      <td>Severe acute respiratory syndrome-related coro...</td>\n",
       "      <td>ssRNA(+)</td>\n",
       "      <td>29876</td>\n",
       "      <td>Egypt</td>\n",
       "      <td>oronasopharynx</td>\n",
       "      <td>2022-05-27</td>\n",
       "    </tr>\n",
       "    <tr>\n",
       "      <th>6</th>\n",
       "      <td>OP183422.1</td>\n",
       "      <td>Severe acute respiratory syndrome coronavirus 2</td>\n",
       "      <td>Gad,A.F., Seadawy,M.G., Hanaa,H.A., Mervet,G.H...</td>\n",
       "      <td>Egypt Army, Main Laboratories Of chemical warfare</td>\n",
       "      <td>Egypt</td>\n",
       "      <td>2022-08-09T00:00:00Z</td>\n",
       "      <td>BA.2</td>\n",
       "      <td>4.3/1.20/v0.1.10/0.3.18</td>\n",
       "      <td>NaN</td>\n",
       "      <td>OMICRON-7</td>\n",
       "      <td>Severe acute respiratory syndrome-related coro...</td>\n",
       "      <td>ssRNA(+)</td>\n",
       "      <td>29876</td>\n",
       "      <td>Egypt</td>\n",
       "      <td>oronasopharynx</td>\n",
       "      <td>2022-05-29</td>\n",
       "    </tr>\n",
       "    <tr>\n",
       "      <th>7</th>\n",
       "      <td>OP183423.1</td>\n",
       "      <td>Severe acute respiratory syndrome coronavirus 2</td>\n",
       "      <td>Gad,A.F., Seadawy,M.G., Hanaa,H.A., Mervet,G.H...</td>\n",
       "      <td>Egypt Army, Main Laboratories Of chemical warfare</td>\n",
       "      <td>Egypt</td>\n",
       "      <td>2022-08-09T00:00:00Z</td>\n",
       "      <td>BA.2</td>\n",
       "      <td>4.3/1.20/v0.1.10/0.3.18</td>\n",
       "      <td>NaN</td>\n",
       "      <td>OMICRON-8</td>\n",
       "      <td>Severe acute respiratory syndrome-related coro...</td>\n",
       "      <td>ssRNA(+)</td>\n",
       "      <td>29876</td>\n",
       "      <td>Egypt</td>\n",
       "      <td>oronasopharynx</td>\n",
       "      <td>2022-05-31</td>\n",
       "    </tr>\n",
       "    <tr>\n",
       "      <th>8</th>\n",
       "      <td>OP183424.1</td>\n",
       "      <td>Severe acute respiratory syndrome coronavirus 2</td>\n",
       "      <td>Gad,A.F., Seadawy,M.G., Hanaa,H.A., Mervet,G.H...</td>\n",
       "      <td>Egypt Army, Main Laboratories Of chemical warfare</td>\n",
       "      <td>Egypt</td>\n",
       "      <td>2022-08-09T00:00:00Z</td>\n",
       "      <td>BA.2</td>\n",
       "      <td>4.3/1.20/v0.1.10/0.3.18</td>\n",
       "      <td>NaN</td>\n",
       "      <td>OMICRON-9</td>\n",
       "      <td>Severe acute respiratory syndrome-related coro...</td>\n",
       "      <td>ssRNA(+)</td>\n",
       "      <td>29876</td>\n",
       "      <td>Egypt</td>\n",
       "      <td>oronasopharynx</td>\n",
       "      <td>2022-05-31</td>\n",
       "    </tr>\n",
       "    <tr>\n",
       "      <th>9</th>\n",
       "      <td>OP183425.1</td>\n",
       "      <td>Severe acute respiratory syndrome coronavirus 2</td>\n",
       "      <td>Gad,A.F., Seadawy,M.G., Hanaa,H.A., Mervet,G.H...</td>\n",
       "      <td>Egypt Army, Main Laboratories Of chemical warfare</td>\n",
       "      <td>Egypt</td>\n",
       "      <td>2022-08-09T00:00:00Z</td>\n",
       "      <td>B.1.1.529</td>\n",
       "      <td>4.3/1.20/v0.1.10/0.3.18</td>\n",
       "      <td>NaN</td>\n",
       "      <td>OMICRON-10</td>\n",
       "      <td>Severe acute respiratory syndrome-related coro...</td>\n",
       "      <td>ssRNA(+)</td>\n",
       "      <td>29876</td>\n",
       "      <td>Egypt</td>\n",
       "      <td>oronasopharynx</td>\n",
       "      <td>2022-06-28</td>\n",
       "    </tr>\n",
       "  </tbody>\n",
       "</table>\n",
       "</div>"
      ],
      "text/plain": [
       "    Accession                                    Organism_Name  \\\n",
       "0  OP183416.1  Severe acute respiratory syndrome coronavirus 2   \n",
       "1  OP183417.1  Severe acute respiratory syndrome coronavirus 2   \n",
       "2  OP183418.1  Severe acute respiratory syndrome coronavirus 2   \n",
       "3  OP183419.1  Severe acute respiratory syndrome coronavirus 2   \n",
       "4  OP183420.1  Severe acute respiratory syndrome coronavirus 2   \n",
       "5  OP183421.1  Severe acute respiratory syndrome coronavirus 2   \n",
       "6  OP183422.1  Severe acute respiratory syndrome coronavirus 2   \n",
       "7  OP183423.1  Severe acute respiratory syndrome coronavirus 2   \n",
       "8  OP183424.1  Severe acute respiratory syndrome coronavirus 2   \n",
       "9  OP183425.1  Severe acute respiratory syndrome coronavirus 2   \n",
       "\n",
       "                                          Submitters  \\\n",
       "0  Gad,A.F., Seadawy,M.G., Hanaa,H.A., Mervet,G.H...   \n",
       "1  Gad,A.F., Seadawy,M.G., Hanaa,H.A., Mervet,G.H...   \n",
       "2  Gad,A.F., Seadawy,M.G., Hanaa,H.A., Mervet,G.H...   \n",
       "3  Gad,A.F., Seadawy,M.G., Hanaa,H.A., Mervet,G.H...   \n",
       "4  Gad,A.F., Seadawy,M.G., Hanaa,H.A., Mervet,G.H...   \n",
       "5  Gad,A.F., Seadawy,M.G., Hanaa,H.A., Mervet,G.H...   \n",
       "6  Gad,A.F., Seadawy,M.G., Hanaa,H.A., Mervet,G.H...   \n",
       "7  Gad,A.F., Seadawy,M.G., Hanaa,H.A., Mervet,G.H...   \n",
       "8  Gad,A.F., Seadawy,M.G., Hanaa,H.A., Mervet,G.H...   \n",
       "9  Gad,A.F., Seadawy,M.G., Hanaa,H.A., Mervet,G.H...   \n",
       "\n",
       "                                        Organization Org_location  \\\n",
       "0  Egypt Army, Main Laboratories Of chemical warfare        Egypt   \n",
       "1  Egypt Army, Main Laboratories Of chemical warfare        Egypt   \n",
       "2  Egypt Army, Main Laboratories Of chemical warfare        Egypt   \n",
       "3  Egypt Army, Main Laboratories Of chemical warfare        Egypt   \n",
       "4  Egypt Army, Main Laboratories Of chemical warfare        Egypt   \n",
       "5  Egypt Army, Main Laboratories Of chemical warfare        Egypt   \n",
       "6  Egypt Army, Main Laboratories Of chemical warfare        Egypt   \n",
       "7  Egypt Army, Main Laboratories Of chemical warfare        Egypt   \n",
       "8  Egypt Army, Main Laboratories Of chemical warfare        Egypt   \n",
       "9  Egypt Army, Main Laboratories Of chemical warfare        Egypt   \n",
       "\n",
       "           Release_Date   Pangolin            PangoVersions  Random_Sampling  \\\n",
       "0  2022-08-09T00:00:00Z       BA.2  4.3/1.20/v0.1.10/0.3.18              NaN   \n",
       "1  2022-08-09T00:00:00Z       BA.2  4.3/1.20/v0.1.10/0.3.18              NaN   \n",
       "2  2022-08-09T00:00:00Z       BA.2  4.3/1.20/v0.1.10/0.3.18              NaN   \n",
       "3  2022-08-09T00:00:00Z  B.1.1.529  4.3/1.20/v0.1.10/0.3.18              NaN   \n",
       "4  2022-08-09T00:00:00Z       BA.2  4.3/1.20/v0.1.10/0.3.18              NaN   \n",
       "5  2022-08-09T00:00:00Z       BA.2  4.3/1.20/v0.1.10/0.3.18              NaN   \n",
       "6  2022-08-09T00:00:00Z       BA.2  4.3/1.20/v0.1.10/0.3.18              NaN   \n",
       "7  2022-08-09T00:00:00Z       BA.2  4.3/1.20/v0.1.10/0.3.18              NaN   \n",
       "8  2022-08-09T00:00:00Z       BA.2  4.3/1.20/v0.1.10/0.3.18              NaN   \n",
       "9  2022-08-09T00:00:00Z  B.1.1.529  4.3/1.20/v0.1.10/0.3.18              NaN   \n",
       "\n",
       "      Isolate                                            Species  \\\n",
       "0   OMICRON-1  Severe acute respiratory syndrome-related coro...   \n",
       "1   OMICRON-2  Severe acute respiratory syndrome-related coro...   \n",
       "2   OMICRON-3  Severe acute respiratory syndrome-related coro...   \n",
       "3   OMICRON-4  Severe acute respiratory syndrome-related coro...   \n",
       "4   OMICRON-5  Severe acute respiratory syndrome-related coro...   \n",
       "5   OMICRON-6  Severe acute respiratory syndrome-related coro...   \n",
       "6   OMICRON-7  Severe acute respiratory syndrome-related coro...   \n",
       "7   OMICRON-8  Severe acute respiratory syndrome-related coro...   \n",
       "8   OMICRON-9  Severe acute respiratory syndrome-related coro...   \n",
       "9  OMICRON-10  Severe acute respiratory syndrome-related coro...   \n",
       "\n",
       "  Molecule_type  Length Geo_Location Isolation_Source Collection_Date  \n",
       "0      ssRNA(+)   29876        Egypt   oronasopharynx      2022-05-13  \n",
       "1      ssRNA(+)   29876        Egypt   oronasopharynx      2022-05-15  \n",
       "2      ssRNA(+)   29867        Egypt   oronasopharynx      2022-05-15  \n",
       "3      ssRNA(+)   29876        Egypt   oronasopharynx      2022-05-17  \n",
       "4      ssRNA(+)   29876        Egypt   oronasopharynx      2022-05-19  \n",
       "5      ssRNA(+)   29876        Egypt   oronasopharynx      2022-05-27  \n",
       "6      ssRNA(+)   29876        Egypt   oronasopharynx      2022-05-29  \n",
       "7      ssRNA(+)   29876        Egypt   oronasopharynx      2022-05-31  \n",
       "8      ssRNA(+)   29876        Egypt   oronasopharynx      2022-05-31  \n",
       "9      ssRNA(+)   29876        Egypt   oronasopharynx      2022-06-28  "
      ]
     },
     "execution_count": 3,
     "metadata": {},
     "output_type": "execute_result"
    }
   ],
   "source": [
    "seq_df"
   ]
  },
  {
   "cell_type": "code",
   "execution_count": 4,
   "id": "8fccb4c6",
   "metadata": {},
   "outputs": [],
   "source": [
    "accession = [*seq_df['Accession']]"
   ]
  },
  {
   "cell_type": "code",
   "execution_count": 5,
   "id": "fda17367",
   "metadata": {},
   "outputs": [
    {
     "data": {
      "text/plain": [
       "10"
      ]
     },
     "execution_count": 5,
     "metadata": {},
     "output_type": "execute_result"
    }
   ],
   "source": [
    "len(accession)"
   ]
  },
  {
   "cell_type": "markdown",
   "id": "98a8841b",
   "metadata": {},
   "source": [
    "**_Download the genomes sequances from NCBI database using biopython ENTREZ package_**"
   ]
  },
  {
   "cell_type": "code",
   "execution_count": 6,
   "id": "4b545177",
   "metadata": {},
   "outputs": [],
   "source": [
    "from Bio import Entrez"
   ]
  },
  {
   "cell_type": "code",
   "execution_count": 7,
   "id": "9a70a5fc",
   "metadata": {},
   "outputs": [],
   "source": [
    "#Download ref seq\n",
    "\n",
    "Entrez.email = 'Mariamali.bioinform@gmail.com'\n",
    "refseq_handle = open('D:/asu project/ref_seq.gb','w')\n",
    "handle = Entrez.efetch(db='nuccore',id='NC_045512',rettype='gb',retmode='text')\n",
    "record = handle.read()\n",
    "refseq_handle.write(record)\n",
    "refseq_handle.close()"
   ]
  },
  {
   "cell_type": "code",
   "execution_count": 8,
   "id": "b5e6cb71",
   "metadata": {},
   "outputs": [],
   "source": [
    "#Download all of our sequences from the accession list\n",
    "Entrez.email = 'mariamali.bioinform@gmail.com'\n",
    "epost_handle = Entrez.epost(db='nuccore',id=\",\".join(accession))"
   ]
  },
  {
   "cell_type": "code",
   "execution_count": 9,
   "id": "dae6cc8c",
   "metadata": {},
   "outputs": [
    {
     "data": {
      "text/plain": [
       "{'QueryKey': '1', 'WebEnv': 'MCID_648eac1760a82c3f70369f70'}"
      ]
     },
     "execution_count": 9,
     "metadata": {},
     "output_type": "execute_result"
    }
   ],
   "source": [
    "search_results = Entrez.read(epost_handle)\n",
    "search_results"
   ]
  },
  {
   "cell_type": "code",
   "execution_count": 10,
   "id": "c94ec33e",
   "metadata": {},
   "outputs": [],
   "source": [
    "webenv = search_results['WebEnv']\n",
    "Query_key = search_results['QueryKey']"
   ]
  },
  {
   "cell_type": "code",
   "execution_count": 11,
   "id": "982c6ef7",
   "metadata": {},
   "outputs": [
    {
     "name": "stdout",
     "output_type": "stream",
     "text": [
      "Downloading records 1 to 5...\n",
      "Downloading records 6 to 10...\n",
      "all done!\n"
     ]
    }
   ],
   "source": [
    "batch_size = 5\n",
    "out_handle = open('D:/asu project/SARS_CoV-2.gb','w')\n",
    "count= len(accession)\n",
    "\n",
    "for start in range(0,count,batch_size):\n",
    "    end = min(count,start +batch_size)\n",
    "    print('Downloading records %i to %i' %(start +1,end)+\"...\")\n",
    "    efetch_handle = Entrez.efetch(\n",
    "        db='nuccore',\n",
    "        rettype= 'gb',\n",
    "        retmode='text',\n",
    "        retstart = start,\n",
    "        retmax = batch_size,\n",
    "        webenv = webenv,\n",
    "        query_key = Query_key)\n",
    "    records = efetch_handle.read()\n",
    "    efetch_handle.close()\n",
    "    out_handle.write(records)\n",
    "out_handle.close()\n",
    "print('all done!')"
   ]
  },
  {
   "cell_type": "markdown",
   "id": "6f85f6d0",
   "metadata": {},
   "source": [
    " # <font color=green> Step 2: cleaning Data </font>"
   ]
  },
  {
   "cell_type": "code",
   "execution_count": 12,
   "id": "c23aa940",
   "metadata": {},
   "outputs": [],
   "source": [
    "from Bio import SeqIO\n",
    "from Bio.SeqRecord import SeqRecord"
   ]
  },
  {
   "cell_type": "code",
   "execution_count": 13,
   "id": "7ac3acdd",
   "metadata": {},
   "outputs": [
    {
     "data": {
      "text/plain": [
       "<Bio.SeqIO.InsdcIO.GenBankIterator at 0x257b8e22e00>"
      ]
     },
     "execution_count": 13,
     "metadata": {},
     "output_type": "execute_result"
    }
   ],
   "source": [
    "CoV_seq = SeqIO.parse('D:/asu project/SARS_CoV-2.gb', \"genbank\")\n",
    "CoV_seq"
   ]
  },
  {
   "cell_type": "code",
   "execution_count": 14,
   "id": "899fdff8",
   "metadata": {},
   "outputs": [
    {
     "data": {
      "text/plain": [
       "10"
      ]
     },
     "execution_count": 14,
     "metadata": {},
     "output_type": "execute_result"
    }
   ],
   "source": [
    "count = 0\n",
    "for record in CoV_seq:\n",
    "    count += 1\n",
    "count"
   ]
  },
  {
   "cell_type": "code",
   "execution_count": 15,
   "id": "9034ec59",
   "metadata": {},
   "outputs": [
    {
     "data": {
      "text/plain": [
       "SeqRecord(seq=Seq('ATTAAAGGTTTATACCTTCCCAGGTAACAAACCAACCAACTTTCGATCTCTTGT...AAA'), id='NC_045512.2', name='NC_045512', description='Severe acute respiratory syndrome coronavirus 2 isolate Wuhan-Hu-1, complete genome', dbxrefs=['BioProject:PRJNA485481'])"
      ]
     },
     "execution_count": 15,
     "metadata": {},
     "output_type": "execute_result"
    }
   ],
   "source": [
    "ref_seq = SeqIO.read('D:/asu project/ref_seq.gb','genbank')\n",
    "ref_seq"
   ]
  },
  {
   "cell_type": "code",
   "execution_count": 16,
   "id": "6d11cd1f",
   "metadata": {},
   "outputs": [
    {
     "data": {
      "text/plain": [
       "[SeqFeature(FeatureLocation(ExactPosition(265), ExactPosition(21555), strand=1), type='gene'),\n",
       " SeqFeature(FeatureLocation(ExactPosition(21562), ExactPosition(25384), strand=1), type='gene'),\n",
       " SeqFeature(FeatureLocation(ExactPosition(25392), ExactPosition(26220), strand=1), type='gene'),\n",
       " SeqFeature(FeatureLocation(ExactPosition(26244), ExactPosition(26472), strand=1), type='gene'),\n",
       " SeqFeature(FeatureLocation(ExactPosition(26522), ExactPosition(27191), strand=1), type='gene'),\n",
       " SeqFeature(FeatureLocation(ExactPosition(27201), ExactPosition(27387), strand=1), type='gene'),\n",
       " SeqFeature(FeatureLocation(ExactPosition(27393), ExactPosition(27759), strand=1), type='gene'),\n",
       " SeqFeature(FeatureLocation(ExactPosition(27755), ExactPosition(27887), strand=1), type='gene'),\n",
       " SeqFeature(FeatureLocation(ExactPosition(27893), ExactPosition(28259), strand=1), type='gene'),\n",
       " SeqFeature(FeatureLocation(ExactPosition(28273), ExactPosition(29533), strand=1), type='gene'),\n",
       " SeqFeature(FeatureLocation(ExactPosition(29557), ExactPosition(29674), strand=1), type='gene')]"
      ]
     },
     "execution_count": 16,
     "metadata": {},
     "output_type": "execute_result"
    }
   ],
   "source": [
    "#use the ref seq to search for the s gene\n",
    "features = ref_seq.features\n",
    "\n",
    "features_genes = [feature for feature in features if feature.type == 'gene']\n",
    "\n",
    "features_genes"
   ]
  },
  {
   "cell_type": "code",
   "execution_count": 17,
   "id": "b72863cd",
   "metadata": {},
   "outputs": [
    {
     "name": "stdout",
     "output_type": "stream",
     "text": [
      "['ORF1ab']\n",
      "['S']\n",
      "['ORF3a']\n",
      "['E']\n",
      "['M']\n",
      "['ORF6']\n",
      "['ORF7a']\n",
      "['ORF7b']\n",
      "['ORF8']\n",
      "['N']\n",
      "['ORF10']\n"
     ]
    }
   ],
   "source": [
    "for feature in features_genes:\n",
    "    print(feature.qualifiers['gene'])"
   ]
  },
  {
   "cell_type": "code",
   "execution_count": 18,
   "id": "6703eb54",
   "metadata": {},
   "outputs": [
    {
     "name": "stdout",
     "output_type": "stream",
     "text": [
      "type: gene\n",
      "location: [21562:25384](+)\n",
      "qualifiers:\n",
      "    Key: db_xref, Value: ['GeneID:43740568']\n",
      "    Key: gene, Value: ['S']\n",
      "    Key: gene_synonym, Value: ['spike glycoprotein']\n",
      "    Key: locus_tag, Value: ['GU280_gp02']\n",
      "\n",
      "The S gene is 3822 bases long\n"
     ]
    }
   ],
   "source": [
    "#get some info on that gene\n",
    "for gene_feature in features_genes:\n",
    "    if gene_feature.qualifiers['gene'] == ['S']:\n",
    "        print(gene_feature)\n",
    "        print('The S gene is ' + str(len(gene_feature)) + \" bases long\")"
   ]
  },
  {
   "cell_type": "code",
   "execution_count": 19,
   "id": "74e02458",
   "metadata": {},
   "outputs": [
    {
     "name": "stdout",
     "output_type": "stream",
     "text": [
      "type: gene\n",
      "location: [265:21555](+)\n",
      "qualifiers:\n",
      "    Key: db_xref, Value: ['GeneID:43740578']\n",
      "    Key: gene, Value: ['ORF1ab']\n",
      "    Key: locus_tag, Value: ['GU280_gp01']\n",
      "\n",
      "The S gene is 21290 bases long\n"
     ]
    }
   ],
   "source": [
    "#get some info on that gene\n",
    "for gene_feature in features_genes:\n",
    "    if gene_feature.qualifiers['gene'] == ['ORF1ab']:\n",
    "        print(gene_feature)\n",
    "        print('The S gene is ' + str(len(gene_feature)) + \" bases long\")"
   ]
  },
  {
   "cell_type": "code",
   "execution_count": 20,
   "id": "d48c7cef",
   "metadata": {},
   "outputs": [],
   "source": [
    "#SAVE s gene from all the sequenses\n",
    "s_seqs = []\n",
    "CoV_seq = SeqIO.parse('D:/asu project/SARS_CoV-2.gb', 'genbank')\n",
    "\n",
    "for record in CoV_seq:\n",
    "    for feature in record.features:\n",
    "        if feature.type == 'gene' and feature.qualifiers['gene']==['S']:\n",
    "            new_rec = SeqRecord(seq=feature.extract(record.seq),id=record.id)\n",
    "            s_seqs.append(new_rec)\n"
   ]
  },
  {
   "cell_type": "code",
   "execution_count": 22,
   "id": "b6360658",
   "metadata": {},
   "outputs": [
    {
     "name": "stdout",
     "output_type": "stream",
     "text": [
      "10\n"
     ]
    }
   ],
   "source": [
    "print(len(s_seqs))"
   ]
  },
  {
   "cell_type": "code",
   "execution_count": 24,
   "id": "483e8d9e",
   "metadata": {},
   "outputs": [
    {
     "data": {
      "text/plain": [
       "SeqRecord(seq=Seq('ATGTTTGTTTTTCTTGTTTTATTGCCACTAGTCTCTAGTCAGTGTGTTAATCTT...TAA'), id='OP183417.1', name='<unknown name>', description='<unknown description>', dbxrefs=[])"
      ]
     },
     "execution_count": 24,
     "metadata": {},
     "output_type": "execute_result"
    }
   ],
   "source": [
    "s_seqs[1]"
   ]
  },
  {
   "cell_type": "code",
   "execution_count": 25,
   "id": "6a28805c",
   "metadata": {},
   "outputs": [
    {
     "data": {
      "text/plain": [
       "[SeqRecord(seq=Seq('ATGTTTGTTTTTCTTGTTTTATTGCCACTAGTCTCTAGTCAGTGTGTTAATCTT...TAA'), id='OP183416.1', name='<unknown name>', description='<unknown description>', dbxrefs=[]),\n",
       " SeqRecord(seq=Seq('ATGTTTGTTTTTCTTGTTTTATTGCCACTAGTCTCTAGTCAGTGTGTTAATCTT...TAA'), id='OP183417.1', name='<unknown name>', description='<unknown description>', dbxrefs=[]),\n",
       " SeqRecord(seq=Seq('ATGTTTGTTTTTCTTGTTTTATTGCCACTAGTCTCTAGTCAGTGTGTTAATCTT...TAA'), id='OP183418.1', name='<unknown name>', description='<unknown description>', dbxrefs=[]),\n",
       " SeqRecord(seq=Seq('ATGTTTGTTTTTCTTGTTTTATTGCCACTAGTCTCTAGTCAGTGTGTTAATCTT...TAA'), id='OP183419.1', name='<unknown name>', description='<unknown description>', dbxrefs=[]),\n",
       " SeqRecord(seq=Seq('ATGTTTGTTTTTCTTGTTTTATTGCCACTAGTCTCTAGTCAGTGTGTTAATCTT...TAA'), id='OP183420.1', name='<unknown name>', description='<unknown description>', dbxrefs=[]),\n",
       " SeqRecord(seq=Seq('ATGTTTGTTTTTCTTGTTTTATTGCCACTAGTCTCTAGTCAGTGTGTTAATCTT...TAA'), id='OP183421.1', name='<unknown name>', description='<unknown description>', dbxrefs=[]),\n",
       " SeqRecord(seq=Seq('ATGTTTGTTTTTCTTGTTTTATTGCCACTAGTCTCTAGTCAGTGTGTTAATCTT...TAA'), id='OP183422.1', name='<unknown name>', description='<unknown description>', dbxrefs=[]),\n",
       " SeqRecord(seq=Seq('ATGTTTGTTTTTCTTGTTTTATTGCCACTAGTCTCTAGTCAGTGTGTTAATCTT...TAA'), id='OP183423.1', name='<unknown name>', description='<unknown description>', dbxrefs=[]),\n",
       " SeqRecord(seq=Seq('ATGTTTGTTTTTCTTGTTTTATTGCCACTAGTCTCTAGTCAGTGTGTTAATCTT...TAA'), id='OP183424.1', name='<unknown name>', description='<unknown description>', dbxrefs=[]),\n",
       " SeqRecord(seq=Seq('ATGTTTGTTTTTCTTGTTTTATTGCCACTAGTCTCTAGTCAGTGTGTTAATCTT...TAA'), id='OP183425.1', name='<unknown name>', description='<unknown description>', dbxrefs=[])]"
      ]
     },
     "execution_count": 25,
     "metadata": {},
     "output_type": "execute_result"
    }
   ],
   "source": [
    "s_seqs"
   ]
  },
  {
   "cell_type": "code",
   "execution_count": 27,
   "id": "553493cb",
   "metadata": {},
   "outputs": [
    {
     "data": {
      "text/plain": [
       "10"
      ]
     },
     "execution_count": 27,
     "metadata": {},
     "output_type": "execute_result"
    }
   ],
   "source": [
    "SeqIO.write(s_seqs, 'D:/asu project/s_oro.fasta', 'fasta')"
   ]
  },
  {
   "cell_type": "markdown",
   "id": "717336f5",
   "metadata": {},
   "source": [
    "### Doing the same steps on 'NSP3 gene in ORF1ab'"
   ]
  },
  {
   "cell_type": "code",
   "execution_count": 28,
   "id": "5a2c71cc",
   "metadata": {},
   "outputs": [
    {
     "data": {
      "text/plain": [
       "[SeqFeature(FeatureLocation(ExactPosition(265), ExactPosition(805), strand=1), type='mat_peptide'),\n",
       " SeqFeature(FeatureLocation(ExactPosition(805), ExactPosition(2719), strand=1), type='mat_peptide'),\n",
       " SeqFeature(FeatureLocation(ExactPosition(2719), ExactPosition(8554), strand=1), type='mat_peptide'),\n",
       " SeqFeature(FeatureLocation(ExactPosition(8554), ExactPosition(10054), strand=1), type='mat_peptide'),\n",
       " SeqFeature(FeatureLocation(ExactPosition(10054), ExactPosition(10972), strand=1), type='mat_peptide'),\n",
       " SeqFeature(FeatureLocation(ExactPosition(10972), ExactPosition(11842), strand=1), type='mat_peptide'),\n",
       " SeqFeature(FeatureLocation(ExactPosition(11842), ExactPosition(12091), strand=1), type='mat_peptide'),\n",
       " SeqFeature(FeatureLocation(ExactPosition(12091), ExactPosition(12685), strand=1), type='mat_peptide'),\n",
       " SeqFeature(FeatureLocation(ExactPosition(12685), ExactPosition(13024), strand=1), type='mat_peptide'),\n",
       " SeqFeature(FeatureLocation(ExactPosition(13024), ExactPosition(13441), strand=1), type='mat_peptide'),\n",
       " SeqFeature(CompoundLocation([FeatureLocation(ExactPosition(13441), ExactPosition(13468), strand=1), FeatureLocation(ExactPosition(13467), ExactPosition(16236), strand=1)], 'join'), type='mat_peptide', location_operator='join'),\n",
       " SeqFeature(FeatureLocation(ExactPosition(16236), ExactPosition(18039), strand=1), type='mat_peptide'),\n",
       " SeqFeature(FeatureLocation(ExactPosition(18039), ExactPosition(19620), strand=1), type='mat_peptide'),\n",
       " SeqFeature(FeatureLocation(ExactPosition(19620), ExactPosition(20658), strand=1), type='mat_peptide'),\n",
       " SeqFeature(FeatureLocation(ExactPosition(20658), ExactPosition(21552), strand=1), type='mat_peptide'),\n",
       " SeqFeature(FeatureLocation(ExactPosition(265), ExactPosition(805), strand=1), type='mat_peptide'),\n",
       " SeqFeature(FeatureLocation(ExactPosition(805), ExactPosition(2719), strand=1), type='mat_peptide'),\n",
       " SeqFeature(FeatureLocation(ExactPosition(2719), ExactPosition(8554), strand=1), type='mat_peptide'),\n",
       " SeqFeature(FeatureLocation(ExactPosition(8554), ExactPosition(10054), strand=1), type='mat_peptide'),\n",
       " SeqFeature(FeatureLocation(ExactPosition(10054), ExactPosition(10972), strand=1), type='mat_peptide'),\n",
       " SeqFeature(FeatureLocation(ExactPosition(10972), ExactPosition(11842), strand=1), type='mat_peptide'),\n",
       " SeqFeature(FeatureLocation(ExactPosition(11842), ExactPosition(12091), strand=1), type='mat_peptide'),\n",
       " SeqFeature(FeatureLocation(ExactPosition(12091), ExactPosition(12685), strand=1), type='mat_peptide'),\n",
       " SeqFeature(FeatureLocation(ExactPosition(12685), ExactPosition(13024), strand=1), type='mat_peptide'),\n",
       " SeqFeature(FeatureLocation(ExactPosition(13024), ExactPosition(13441), strand=1), type='mat_peptide'),\n",
       " SeqFeature(FeatureLocation(ExactPosition(13441), ExactPosition(13480), strand=1), type='mat_peptide')]"
      ]
     },
     "execution_count": 28,
     "metadata": {},
     "output_type": "execute_result"
    }
   ],
   "source": [
    "#find nsp3 on ref seq\n",
    "features = ref_seq.features\n",
    "features_mature_peptide = []\n",
    "for feature in features:\n",
    "    if feature.type == 'mat_peptide':\n",
    "        features_mature_peptide.append(feature)\n",
    "features_mature_peptide"
   ]
  },
  {
   "cell_type": "code",
   "execution_count": 33,
   "id": "c02888e2",
   "metadata": {},
   "outputs": [
    {
     "name": "stdout",
     "output_type": "stream",
     "text": [
      "type: mat_peptide\n",
      "location: [2719:8554](+)\n",
      "qualifiers:\n",
      "    Key: gene, Value: ['ORF1ab']\n",
      "    Key: locus_tag, Value: ['GU280_gp01']\n",
      "    Key: note, Value: [\"former nsp1; conserved domains are: N-terminal acidic (Ac), predicted phosphoesterase, papain-like proteinase, Y-domain, transmembrane domain 1 (TM1), adenosine diphosphate-ribose 1''-phosphatase (ADRP); produced by both pp1a and pp1ab\"]\n",
      "    Key: product, Value: ['nsp3']\n",
      "    Key: protein_id, Value: ['YP_009725299.1']\n",
      "\n",
      "The nps3 is 5835 bases long\n",
      "type: mat_peptide\n",
      "location: [2719:8554](+)\n",
      "qualifiers:\n",
      "    Key: gene, Value: ['ORF1ab']\n",
      "    Key: locus_tag, Value: ['GU280_gp01']\n",
      "    Key: note, Value: [\"former nsp1; conserved domains are: N-terminal acidic (Ac), predicted phosphoesterase, papain-like proteinase, Y-domain, transmembrane domain 1 (TM1), adenosine diphosphate-ribose 1''-phosphatase (ADRP); produced by both pp1a and pp1ab\"]\n",
      "    Key: product, Value: ['nsp3']\n",
      "    Key: protein_id, Value: ['YP_009742610.1']\n",
      "\n",
      "The nps3 is 5835 bases long\n"
     ]
    }
   ],
   "source": [
    "for feature in features_mature_peptide:\n",
    "    if feature.qualifiers['product'] == ['nsp3']:\n",
    "        print(feature)\n",
    "        print('The nps3 is ' + str(len(feature)) + ' bases long')"
   ]
  },
  {
   "cell_type": "code",
   "execution_count": 35,
   "id": "9d5e56be",
   "metadata": {},
   "outputs": [
    {
     "name": "stdout",
     "output_type": "stream",
     "text": [
      "10\n"
     ]
    }
   ],
   "source": [
    "ORF1ab_seqs = []\n",
    "CoV_seq = SeqIO.parse('D:/asu project/SARS_CoV-2.gb', 'genbank')\n",
    "mat_peptide_list = []\n",
    "for record in CoV_seq:\n",
    "    for feature in record.features:\n",
    "        if feature.type == 'mat_peptide' and feature.qualifiers['product'] == ['nsp3']:\n",
    "            if record.id not in mat_peptide_list:\n",
    "                mat_peptide_list.append(record.id)\n",
    "                new_rec = SeqRecord(seq = feature.extract(record.seq), id = record.id)\n",
    "                ORF1ab_seqs.append(new_rec)\n",
    "print(len(ORF1ab_seqs))"
   ]
  },
  {
   "cell_type": "code",
   "execution_count": 36,
   "id": "ae565146",
   "metadata": {},
   "outputs": [
    {
     "data": {
      "text/plain": [
       "10"
      ]
     },
     "execution_count": 36,
     "metadata": {},
     "output_type": "execute_result"
    }
   ],
   "source": [
    "SeqIO.write(ORF1ab_seqs, 'D:/asu project/ORF1ab_oro.fasta','fasta')"
   ]
  },
  {
   "cell_type": "markdown",
   "id": "d74fdeed",
   "metadata": {},
   "source": [
    " # <font color=green> Step 3: Analysis </font>"
   ]
  },
  {
   "cell_type": "code",
   "execution_count": 38,
   "id": "af671afc",
   "metadata": {},
   "outputs": [],
   "source": [
    "from Bio import AlignIO\n",
    "from Bio.Align import AlignInfo"
   ]
  },
  {
   "cell_type": "code",
   "execution_count": 39,
   "id": "6e1c6328",
   "metadata": {},
   "outputs": [],
   "source": [
    "s_oro = AlignIO.read('D:/asu project/s_oro_aligned.clustal_num', 'clustal')\n",
    "s_oro_summary_align = AlignInfo.SummaryInfo(s_oro)"
   ]
  },
  {
   "cell_type": "code",
   "execution_count": 40,
   "id": "585c898f",
   "metadata": {},
   "outputs": [
    {
     "data": {
      "text/plain": [
       "Seq('ATGTTTGTTTTTCTTGTTTTATTGCCACTAGTCTCTAGTCAGTGTGTTAATCTT...TAA')"
      ]
     },
     "execution_count": 40,
     "metadata": {},
     "output_type": "execute_result"
    }
   ],
   "source": [
    "s_oro_summary_align.dumb_consensus()"
   ]
  },
  {
   "cell_type": "code",
   "execution_count": 43,
   "id": "ff764079",
   "metadata": {},
   "outputs": [
    {
     "ename": "ModuleNotFoundError",
     "evalue": "No module named 'skbio'",
     "output_type": "error",
     "traceback": [
      "\u001b[1;31m---------------------------------------------------------------------------\u001b[0m",
      "\u001b[1;31mModuleNotFoundError\u001b[0m                       Traceback (most recent call last)",
      "Cell \u001b[1;32mIn[43], line 2\u001b[0m\n\u001b[0;32m      1\u001b[0m \u001b[38;5;66;03m#using skbio to calculate the estimate of comservation\u001b[39;00m\n\u001b[1;32m----> 2\u001b[0m \u001b[38;5;28;01mfrom\u001b[39;00m \u001b[38;5;21;01mskbio\u001b[39;00m \u001b[38;5;28;01mimport\u001b[39;00m DNA, TabularMSA\n",
      "\u001b[1;31mModuleNotFoundError\u001b[0m: No module named 'skbio'"
     ]
    }
   ],
   "source": [
    "#using skbio to calculate the estimate of comservation\n",
    "from skbio import DNA, TabularMSA\n"
   ]
  },
  {
   "cell_type": "code",
   "execution_count": 44,
   "id": "05573269",
   "metadata": {},
   "outputs": [],
   "source": [
    "S_oro_align = AlignIO.convert('D:/asu project/s_oro_aligned.clustal_num','clustal', 'D:/asu project/s_oro_aligned.fasta','fasta')"
   ]
  },
  {
   "cell_type": "code",
   "execution_count": null,
   "id": "7deb31df",
   "metadata": {},
   "outputs": [],
   "source": []
  }
 ],
 "metadata": {
  "kernelspec": {
   "display_name": "Python 3 (ipykernel)",
   "language": "python",
   "name": "python3"
  },
  "language_info": {
   "codemirror_mode": {
    "name": "ipython",
    "version": 3
   },
   "file_extension": ".py",
   "mimetype": "text/x-python",
   "name": "python",
   "nbconvert_exporter": "python",
   "pygments_lexer": "ipython3",
   "version": "3.10.9"
  }
 },
 "nbformat": 4,
 "nbformat_minor": 5
}
