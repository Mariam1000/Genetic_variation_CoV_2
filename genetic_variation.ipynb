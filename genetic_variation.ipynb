{
  "nbformat": 4,
  "nbformat_minor": 0,
  "metadata": {
    "colab": {
      "provenance": []
    },
    "kernelspec": {
      "name": "python3",
      "display_name": "Python 3"
    },
    "language_info": {
      "name": "python"
    }
  },
  "cells": [
    {
      "cell_type": "markdown",
      "source": [
        "### **_Finding the relative consevation % of S gene and NSP3  of Orf1Ab region in SARS-CoV2_**"
      ],
      "metadata": {
        "id": "zT0BinUVH70x"
      }
    },
    {
      "cell_type": "markdown",
      "source": [
        "1. Data Acquisition  \n",
        "\n",
        "2. Data cleaning  \n",
        "\n",
        "3. Data Analysis  \n",
        "\n",
        "4. Data visulization  "
      ],
      "metadata": {
        "id": "-hQaqJjvIG83"
      }
    },
    {
      "cell_type": "markdown",
      "source": [
        "# _ _ _ _ _ _ _ _ _ _ _ _ _ _ _ _  _\n"
      ],
      "metadata": {
        "id": "QJezxoZ-IKj-"
      }
    },
    {
      "cell_type": "markdown",
      "source": [
        " # <font color=green> Step 1: Data Acquisition </font>\n",
        "\n",
        "#### Dataset was obtained from [NCBI Virus](https://www.ncbi.nlm.nih.gov/labs/virus/vssi/#/virus?SeqType_s=Nucleotide&VirusLineage_ss=Severe%20acute%20respiratory%20syndrome%20coronavirus%202%20(SARS-CoV-2),%20taxid:2697049&Completeness_s=complete&Country_s=Egypt)\n",
        "\n",
        "* filtered by:\n",
        "    * Nucleotide compltetness: complete\n",
        "    * Geographical Region: Egypt"
      ],
      "metadata": {
        "id": "hBQHgWeFIdWc"
      }
    },
    {
      "cell_type": "markdown",
      "source": [
        "**_Download CSV file that contains the genomes info from NCBI Virus_**"
      ],
      "metadata": {
        "id": "j-O6H5k4IupX"
      }
    },
    {
      "cell_type": "code",
      "source": [
        "import pandas as pd"
      ],
      "metadata": {
        "id": "W6dROpUrH_LL"
      },
      "execution_count": 4,
      "outputs": []
    },
    {
      "cell_type": "code",
      "source": [
        "seq_df= pd.read_csv(\"/content/sequences.csv\")\n",
        "seq_df.head(1)"
      ],
      "metadata": {
        "colab": {
          "base_uri": "https://localhost:8080/",
          "height": 231
        },
        "id": "ePEqNUtzHwzj",
        "outputId": "ab626ba9-b0f7-44b0-e4cd-51faffbbfd9d"
      },
      "execution_count": 10,
      "outputs": [
        {
          "output_type": "execute_result",
          "data": {
            "text/plain": [
              "    Accession                                    Organism_Name  \\\n",
              "0  OP183416.1  Severe acute respiratory syndrome coronavirus 2   \n",
              "\n",
              "                                          Submitters  \\\n",
              "0  Gad,A.F., Seadawy,M.G., Hanaa,H.A., Mervet,G.H...   \n",
              "\n",
              "                                        Organization Org_location  \\\n",
              "0  Egypt Army, Main Laboratories Of chemical warfare        Egypt   \n",
              "\n",
              "           Release_Date Pangolin            PangoVersions  Random_Sampling  \\\n",
              "0  2022-08-09T00:00:00Z     BA.2  4.3/1.20/v0.1.10/0.3.18              NaN   \n",
              "\n",
              "     Isolate                                            Species Molecule_type  \\\n",
              "0  OMICRON-1  Severe acute respiratory syndrome-related coro...      ssRNA(+)   \n",
              "\n",
              "   Length Geo_Location Isolation_Source Collection_Date  \n",
              "0   29876        Egypt   oronasopharynx      2022-05-13  "
            ],
            "text/html": [
              "\n",
              "\n",
              "  <div id=\"df-aab761ab-0fb4-470b-8307-71e58c21b18a\">\n",
              "    <div class=\"colab-df-container\">\n",
              "      <div>\n",
              "<style scoped>\n",
              "    .dataframe tbody tr th:only-of-type {\n",
              "        vertical-align: middle;\n",
              "    }\n",
              "\n",
              "    .dataframe tbody tr th {\n",
              "        vertical-align: top;\n",
              "    }\n",
              "\n",
              "    .dataframe thead th {\n",
              "        text-align: right;\n",
              "    }\n",
              "</style>\n",
              "<table border=\"1\" class=\"dataframe\">\n",
              "  <thead>\n",
              "    <tr style=\"text-align: right;\">\n",
              "      <th></th>\n",
              "      <th>Accession</th>\n",
              "      <th>Organism_Name</th>\n",
              "      <th>Submitters</th>\n",
              "      <th>Organization</th>\n",
              "      <th>Org_location</th>\n",
              "      <th>Release_Date</th>\n",
              "      <th>Pangolin</th>\n",
              "      <th>PangoVersions</th>\n",
              "      <th>Random_Sampling</th>\n",
              "      <th>Isolate</th>\n",
              "      <th>Species</th>\n",
              "      <th>Molecule_type</th>\n",
              "      <th>Length</th>\n",
              "      <th>Geo_Location</th>\n",
              "      <th>Isolation_Source</th>\n",
              "      <th>Collection_Date</th>\n",
              "    </tr>\n",
              "  </thead>\n",
              "  <tbody>\n",
              "    <tr>\n",
              "      <th>0</th>\n",
              "      <td>OP183416.1</td>\n",
              "      <td>Severe acute respiratory syndrome coronavirus 2</td>\n",
              "      <td>Gad,A.F., Seadawy,M.G., Hanaa,H.A., Mervet,G.H...</td>\n",
              "      <td>Egypt Army, Main Laboratories Of chemical warfare</td>\n",
              "      <td>Egypt</td>\n",
              "      <td>2022-08-09T00:00:00Z</td>\n",
              "      <td>BA.2</td>\n",
              "      <td>4.3/1.20/v0.1.10/0.3.18</td>\n",
              "      <td>NaN</td>\n",
              "      <td>OMICRON-1</td>\n",
              "      <td>Severe acute respiratory syndrome-related coro...</td>\n",
              "      <td>ssRNA(+)</td>\n",
              "      <td>29876</td>\n",
              "      <td>Egypt</td>\n",
              "      <td>oronasopharynx</td>\n",
              "      <td>2022-05-13</td>\n",
              "    </tr>\n",
              "  </tbody>\n",
              "</table>\n",
              "</div>\n",
              "      <button class=\"colab-df-convert\" onclick=\"convertToInteractive('df-aab761ab-0fb4-470b-8307-71e58c21b18a')\"\n",
              "              title=\"Convert this dataframe to an interactive table.\"\n",
              "              style=\"display:none;\">\n",
              "\n",
              "  <svg xmlns=\"http://www.w3.org/2000/svg\" height=\"24px\"viewBox=\"0 0 24 24\"\n",
              "       width=\"24px\">\n",
              "    <path d=\"M0 0h24v24H0V0z\" fill=\"none\"/>\n",
              "    <path d=\"M18.56 5.44l.94 2.06.94-2.06 2.06-.94-2.06-.94-.94-2.06-.94 2.06-2.06.94zm-11 1L8.5 8.5l.94-2.06 2.06-.94-2.06-.94L8.5 2.5l-.94 2.06-2.06.94zm10 10l.94 2.06.94-2.06 2.06-.94-2.06-.94-.94-2.06-.94 2.06-2.06.94z\"/><path d=\"M17.41 7.96l-1.37-1.37c-.4-.4-.92-.59-1.43-.59-.52 0-1.04.2-1.43.59L10.3 9.45l-7.72 7.72c-.78.78-.78 2.05 0 2.83L4 21.41c.39.39.9.59 1.41.59.51 0 1.02-.2 1.41-.59l7.78-7.78 2.81-2.81c.8-.78.8-2.07 0-2.86zM5.41 20L4 18.59l7.72-7.72 1.47 1.35L5.41 20z\"/>\n",
              "  </svg>\n",
              "      </button>\n",
              "\n",
              "\n",
              "\n",
              "    <div id=\"df-68b631a1-cf10-48a7-aa0b-b85512399e67\">\n",
              "      <button class=\"colab-df-quickchart\" onclick=\"quickchart('df-68b631a1-cf10-48a7-aa0b-b85512399e67')\"\n",
              "              title=\"Suggest charts.\"\n",
              "              style=\"display:none;\">\n",
              "\n",
              "<svg xmlns=\"http://www.w3.org/2000/svg\" height=\"24px\"viewBox=\"0 0 24 24\"\n",
              "     width=\"24px\">\n",
              "    <g>\n",
              "        <path d=\"M19 3H5c-1.1 0-2 .9-2 2v14c0 1.1.9 2 2 2h14c1.1 0 2-.9 2-2V5c0-1.1-.9-2-2-2zM9 17H7v-7h2v7zm4 0h-2V7h2v10zm4 0h-2v-4h2v4z\"/>\n",
              "    </g>\n",
              "</svg>\n",
              "      </button>\n",
              "    </div>\n",
              "\n",
              "<style>\n",
              "  .colab-df-quickchart {\n",
              "    background-color: #E8F0FE;\n",
              "    border: none;\n",
              "    border-radius: 50%;\n",
              "    cursor: pointer;\n",
              "    display: none;\n",
              "    fill: #1967D2;\n",
              "    height: 32px;\n",
              "    padding: 0 0 0 0;\n",
              "    width: 32px;\n",
              "  }\n",
              "\n",
              "  .colab-df-quickchart:hover {\n",
              "    background-color: #E2EBFA;\n",
              "    box-shadow: 0px 1px 2px rgba(60, 64, 67, 0.3), 0px 1px 3px 1px rgba(60, 64, 67, 0.15);\n",
              "    fill: #174EA6;\n",
              "  }\n",
              "\n",
              "  [theme=dark] .colab-df-quickchart {\n",
              "    background-color: #3B4455;\n",
              "    fill: #D2E3FC;\n",
              "  }\n",
              "\n",
              "  [theme=dark] .colab-df-quickchart:hover {\n",
              "    background-color: #434B5C;\n",
              "    box-shadow: 0px 1px 3px 1px rgba(0, 0, 0, 0.15);\n",
              "    filter: drop-shadow(0px 1px 2px rgba(0, 0, 0, 0.3));\n",
              "    fill: #FFFFFF;\n",
              "  }\n",
              "</style>\n",
              "\n",
              "    <script>\n",
              "      async function quickchart(key) {\n",
              "        const containerElement = document.querySelector('#' + key);\n",
              "        const charts = await google.colab.kernel.invokeFunction(\n",
              "            'suggestCharts', [key], {});\n",
              "      }\n",
              "    </script>\n",
              "\n",
              "      <script>\n",
              "\n",
              "function displayQuickchartButton(domScope) {\n",
              "  let quickchartButtonEl =\n",
              "    domScope.querySelector('#df-68b631a1-cf10-48a7-aa0b-b85512399e67 button.colab-df-quickchart');\n",
              "  quickchartButtonEl.style.display =\n",
              "    google.colab.kernel.accessAllowed ? 'block' : 'none';\n",
              "}\n",
              "\n",
              "        displayQuickchartButton(document);\n",
              "      </script>\n",
              "      <style>\n",
              "    .colab-df-container {\n",
              "      display:flex;\n",
              "      flex-wrap:wrap;\n",
              "      gap: 12px;\n",
              "    }\n",
              "\n",
              "    .colab-df-convert {\n",
              "      background-color: #E8F0FE;\n",
              "      border: none;\n",
              "      border-radius: 50%;\n",
              "      cursor: pointer;\n",
              "      display: none;\n",
              "      fill: #1967D2;\n",
              "      height: 32px;\n",
              "      padding: 0 0 0 0;\n",
              "      width: 32px;\n",
              "    }\n",
              "\n",
              "    .colab-df-convert:hover {\n",
              "      background-color: #E2EBFA;\n",
              "      box-shadow: 0px 1px 2px rgba(60, 64, 67, 0.3), 0px 1px 3px 1px rgba(60, 64, 67, 0.15);\n",
              "      fill: #174EA6;\n",
              "    }\n",
              "\n",
              "    [theme=dark] .colab-df-convert {\n",
              "      background-color: #3B4455;\n",
              "      fill: #D2E3FC;\n",
              "    }\n",
              "\n",
              "    [theme=dark] .colab-df-convert:hover {\n",
              "      background-color: #434B5C;\n",
              "      box-shadow: 0px 1px 3px 1px rgba(0, 0, 0, 0.15);\n",
              "      filter: drop-shadow(0px 1px 2px rgba(0, 0, 0, 0.3));\n",
              "      fill: #FFFFFF;\n",
              "    }\n",
              "  </style>\n",
              "\n",
              "      <script>\n",
              "        const buttonEl =\n",
              "          document.querySelector('#df-aab761ab-0fb4-470b-8307-71e58c21b18a button.colab-df-convert');\n",
              "        buttonEl.style.display =\n",
              "          google.colab.kernel.accessAllowed ? 'block' : 'none';\n",
              "\n",
              "        async function convertToInteractive(key) {\n",
              "          const element = document.querySelector('#df-aab761ab-0fb4-470b-8307-71e58c21b18a');\n",
              "          const dataTable =\n",
              "            await google.colab.kernel.invokeFunction('convertToInteractive',\n",
              "                                                     [key], {});\n",
              "          if (!dataTable) return;\n",
              "\n",
              "          const docLinkHtml = 'Like what you see? Visit the ' +\n",
              "            '<a target=\"_blank\" href=https://colab.research.google.com/notebooks/data_table.ipynb>data table notebook</a>'\n",
              "            + ' to learn more about interactive tables.';\n",
              "          element.innerHTML = '';\n",
              "          dataTable['output_type'] = 'display_data';\n",
              "          await google.colab.output.renderOutput(dataTable, element);\n",
              "          const docLink = document.createElement('div');\n",
              "          docLink.innerHTML = docLinkHtml;\n",
              "          element.appendChild(docLink);\n",
              "        }\n",
              "      </script>\n",
              "    </div>\n",
              "  </div>\n"
            ]
          },
          "metadata": {},
          "execution_count": 10
        }
      ]
    },
    {
      "cell_type": "code",
      "source": [
        "accession = [*seq_df['Accession']]\n",
        "len(accession)"
      ],
      "metadata": {
        "colab": {
          "base_uri": "https://localhost:8080/"
        },
        "id": "sf0I6lyUJbIc",
        "outputId": "2329c831-cf4a-45b7-ea4e-b2b9cc7bf5e2"
      },
      "execution_count": 11,
      "outputs": [
        {
          "output_type": "execute_result",
          "data": {
            "text/plain": [
              "10"
            ]
          },
          "metadata": {},
          "execution_count": 11
        }
      ]
    },
    {
      "cell_type": "markdown",
      "source": [
        "**_Download the genomes sequances from NCBI database using biopython ENTREZ package_**"
      ],
      "metadata": {
        "id": "miSf4ELyKKeK"
      }
    },
    {
      "cell_type": "code",
      "source": [
        "!pip install biopython\n",
        "from Bio import Entrez"
      ],
      "metadata": {
        "colab": {
          "base_uri": "https://localhost:8080/"
        },
        "id": "Wjx1ZfiJKFhU",
        "outputId": "5fa04cf7-346c-49fd-f8b9-acf35e8cd15a"
      },
      "execution_count": 12,
      "outputs": [
        {
          "output_type": "stream",
          "name": "stdout",
          "text": [
            "Requirement already satisfied: biopython in /usr/local/lib/python3.10/dist-packages (1.81)\n",
            "Requirement already satisfied: numpy in /usr/local/lib/python3.10/dist-packages (from biopython) (1.23.5)\n"
          ]
        }
      ]
    },
    {
      "cell_type": "code",
      "source": [
        "#Download ref seq\n",
        "\n",
        "Entrez.email = 'Mariamali.bioinform@gmail.com'\n",
        "refseq_handle = open('/content/ref_seq.gb','w')\n",
        "handle = Entrez.efetch(db='nuccore',id='NC_045512',rettype='gb',retmode='text')\n",
        "record = handle.read()\n",
        "refseq_handle.write(record)\n",
        "refseq_handle.close()"
      ],
      "metadata": {
        "id": "3ti9Gs2ZKStU"
      },
      "execution_count": 14,
      "outputs": []
    },
    {
      "cell_type": "code",
      "source": [
        "#Download all of our sequences from the accession list\n",
        "Entrez.email = 'mariamali.bioinform@gmail.com'\n",
        "epost_handle = Entrez.epost(db='nuccore',id=\",\".join(accession))"
      ],
      "metadata": {
        "id": "dUBLLVQSKcH4"
      },
      "execution_count": 15,
      "outputs": []
    },
    {
      "cell_type": "code",
      "source": [
        "search_results = Entrez.read(epost_handle)\n",
        "search_results"
      ],
      "metadata": {
        "colab": {
          "base_uri": "https://localhost:8080/"
        },
        "id": "sEfwZC0tKxeR",
        "outputId": "f205bc6f-ffc5-4e20-af79-16eef6cf2b51"
      },
      "execution_count": 16,
      "outputs": [
        {
          "output_type": "execute_result",
          "data": {
            "text/plain": [
              "{'QueryKey': '1', 'WebEnv': 'MCID_64d650ad5a11b01b9c122ab7'}"
            ]
          },
          "metadata": {},
          "execution_count": 16
        }
      ]
    },
    {
      "cell_type": "code",
      "source": [
        "webenv = search_results['WebEnv']\n",
        "Query_key = search_results['QueryKey']"
      ],
      "metadata": {
        "id": "Ntho2i21KzT0"
      },
      "execution_count": 17,
      "outputs": []
    },
    {
      "cell_type": "code",
      "source": [
        "batch_size = 5\n",
        "out_handle = open('/content/SARS_CoV-2.gb','w')\n",
        "count= len(accession)\n",
        "\n",
        "for start in range(0,count,batch_size):\n",
        "    end = min(count,start +batch_size)\n",
        "    print('Downloading records %i to %i' %(start +1,end)+\"...\")\n",
        "    efetch_handle = Entrez.efetch(\n",
        "        db='nuccore',\n",
        "        rettype= 'gb',\n",
        "        retmode='text',\n",
        "        retstart = start,\n",
        "        retmax = batch_size,\n",
        "        webenv = webenv,\n",
        "        query_key = Query_key)\n",
        "    records = efetch_handle.read()\n",
        "    efetch_handle.close()\n",
        "    out_handle.write(records)\n",
        "out_handle.close()\n",
        "print('all done!')"
      ],
      "metadata": {
        "colab": {
          "base_uri": "https://localhost:8080/"
        },
        "id": "Fhnu3PIALBRk",
        "outputId": "427de818-a080-4e79-a503-ecc57b0cfacf"
      },
      "execution_count": 19,
      "outputs": [
        {
          "output_type": "stream",
          "name": "stdout",
          "text": [
            "Downloading records 1 to 5...\n",
            "Downloading records 6 to 10...\n",
            "all done!\n"
          ]
        }
      ]
    },
    {
      "cell_type": "markdown",
      "source": [
        " # <font color=green> Step 2: cleaning Data </font>"
      ],
      "metadata": {
        "id": "aVRTD8FQLOYi"
      }
    },
    {
      "cell_type": "code",
      "source": [
        "from Bio import SeqIO\n",
        "from Bio.SeqRecord import SeqRecord"
      ],
      "metadata": {
        "id": "itegzICoLEke"
      },
      "execution_count": 20,
      "outputs": []
    },
    {
      "cell_type": "code",
      "source": [
        "CoV_seq = SeqIO.parse('/content/SARS_CoV-2.gb', \"genbank\")\n",
        "CoV_seq"
      ],
      "metadata": {
        "colab": {
          "base_uri": "https://localhost:8080/"
        },
        "id": "lB4X6iecLRj7",
        "outputId": "b9e8f7c6-7075-4ae7-aa4e-2cf639dcccbd"
      },
      "execution_count": 22,
      "outputs": [
        {
          "output_type": "execute_result",
          "data": {
            "text/plain": [
              "<Bio.SeqIO.InsdcIO.GenBankIterator at 0x7c6fb6e22aa0>"
            ]
          },
          "metadata": {},
          "execution_count": 22
        }
      ]
    },
    {
      "cell_type": "code",
      "source": [
        "count = 0\n",
        "for record in CoV_seq:\n",
        "    count += 1\n",
        "count"
      ],
      "metadata": {
        "colab": {
          "base_uri": "https://localhost:8080/"
        },
        "id": "R9EAKztmLTWm",
        "outputId": "61a37efe-34dc-4b0c-847e-3efd418e4eea"
      },
      "execution_count": 23,
      "outputs": [
        {
          "output_type": "execute_result",
          "data": {
            "text/plain": [
              "10"
            ]
          },
          "metadata": {},
          "execution_count": 23
        }
      ]
    },
    {
      "cell_type": "code",
      "source": [
        "ref_seq = SeqIO.read('/content/ref_seq.gb','genbank')\n",
        "ref_seq"
      ],
      "metadata": {
        "colab": {
          "base_uri": "https://localhost:8080/"
        },
        "id": "B3U-dPE8LZbM",
        "outputId": "69122f1a-db6d-423a-ccff-30f1104b31e2"
      },
      "execution_count": 25,
      "outputs": [
        {
          "output_type": "execute_result",
          "data": {
            "text/plain": [
              "SeqRecord(seq=Seq('ATTAAAGGTTTATACCTTCCCAGGTAACAAACCAACCAACTTTCGATCTCTTGT...AAA'), id='NC_045512.2', name='NC_045512', description='Severe acute respiratory syndrome coronavirus 2 isolate Wuhan-Hu-1, complete genome', dbxrefs=['BioProject:PRJNA485481'])"
            ]
          },
          "metadata": {},
          "execution_count": 25
        }
      ]
    },
    {
      "cell_type": "code",
      "source": [
        "#use the ref seq to search for the s gene\n",
        "features = ref_seq.features\n",
        "\n",
        "features_genes = [feature for feature in features if feature.type == 'gene']\n",
        "\n",
        "features_genes"
      ],
      "metadata": {
        "colab": {
          "base_uri": "https://localhost:8080/"
        },
        "id": "c5WNkBQdLbq3",
        "outputId": "566a6a9b-949c-417d-97e5-d60182ed6b80"
      },
      "execution_count": 26,
      "outputs": [
        {
          "output_type": "execute_result",
          "data": {
            "text/plain": [
              "[SeqFeature(SimpleLocation(ExactPosition(265), ExactPosition(21555), strand=1), type='gene', qualifiers=...),\n",
              " SeqFeature(SimpleLocation(ExactPosition(21562), ExactPosition(25384), strand=1), type='gene', qualifiers=...),\n",
              " SeqFeature(SimpleLocation(ExactPosition(25392), ExactPosition(26220), strand=1), type='gene', qualifiers=...),\n",
              " SeqFeature(SimpleLocation(ExactPosition(26244), ExactPosition(26472), strand=1), type='gene', qualifiers=...),\n",
              " SeqFeature(SimpleLocation(ExactPosition(26522), ExactPosition(27191), strand=1), type='gene', qualifiers=...),\n",
              " SeqFeature(SimpleLocation(ExactPosition(27201), ExactPosition(27387), strand=1), type='gene', qualifiers=...),\n",
              " SeqFeature(SimpleLocation(ExactPosition(27393), ExactPosition(27759), strand=1), type='gene', qualifiers=...),\n",
              " SeqFeature(SimpleLocation(ExactPosition(27755), ExactPosition(27887), strand=1), type='gene', qualifiers=...),\n",
              " SeqFeature(SimpleLocation(ExactPosition(27893), ExactPosition(28259), strand=1), type='gene', qualifiers=...),\n",
              " SeqFeature(SimpleLocation(ExactPosition(28273), ExactPosition(29533), strand=1), type='gene', qualifiers=...),\n",
              " SeqFeature(SimpleLocation(ExactPosition(29557), ExactPosition(29674), strand=1), type='gene', qualifiers=...)]"
            ]
          },
          "metadata": {},
          "execution_count": 26
        }
      ]
    },
    {
      "cell_type": "code",
      "source": [
        "for feature in features_genes:\n",
        "    print(feature.qualifiers['gene'])"
      ],
      "metadata": {
        "colab": {
          "base_uri": "https://localhost:8080/"
        },
        "id": "pd9p2uZcLgGP",
        "outputId": "ce96f580-c225-42d9-bf9b-2bd9daa1efd6"
      },
      "execution_count": 27,
      "outputs": [
        {
          "output_type": "stream",
          "name": "stdout",
          "text": [
            "['ORF1ab']\n",
            "['S']\n",
            "['ORF3a']\n",
            "['E']\n",
            "['M']\n",
            "['ORF6']\n",
            "['ORF7a']\n",
            "['ORF7b']\n",
            "['ORF8']\n",
            "['N']\n",
            "['ORF10']\n"
          ]
        }
      ]
    },
    {
      "cell_type": "code",
      "source": [
        "#get some info on that gene\n",
        "for gene_feature in features_genes:\n",
        "    if gene_feature.qualifiers['gene'] == ['S']:\n",
        "        print(gene_feature)\n",
        "        print('The S gene is ' + str(len(gene_feature)) + \" bases long\")"
      ],
      "metadata": {
        "colab": {
          "base_uri": "https://localhost:8080/"
        },
        "id": "w8GxX_QLLkAb",
        "outputId": "9bff7dfd-4cf8-47d1-ed92-74797defeea4"
      },
      "execution_count": 28,
      "outputs": [
        {
          "output_type": "stream",
          "name": "stdout",
          "text": [
            "type: gene\n",
            "location: [21562:25384](+)\n",
            "qualifiers:\n",
            "    Key: db_xref, Value: ['GeneID:43740568']\n",
            "    Key: gene, Value: ['S']\n",
            "    Key: gene_synonym, Value: ['spike glycoprotein']\n",
            "    Key: locus_tag, Value: ['GU280_gp02']\n",
            "\n",
            "The S gene is 3822 bases long\n"
          ]
        }
      ]
    },
    {
      "cell_type": "code",
      "source": [
        "for gene_feature in features_genes:\n",
        "    if gene_feature.qualifiers['gene'] == ['N']:\n",
        "        print(gene_feature)\n",
        "        print('The N gene is ' + str(len(gene_feature)) + \" bases long\")"
      ],
      "metadata": {
        "colab": {
          "base_uri": "https://localhost:8080/"
        },
        "id": "7PvNpgPYLoPA",
        "outputId": "64f0f679-bf3e-4d2d-8fad-385204810dbb"
      },
      "execution_count": 29,
      "outputs": [
        {
          "output_type": "stream",
          "name": "stdout",
          "text": [
            "type: gene\n",
            "location: [28273:29533](+)\n",
            "qualifiers:\n",
            "    Key: db_xref, Value: ['GeneID:43740575']\n",
            "    Key: gene, Value: ['N']\n",
            "    Key: locus_tag, Value: ['GU280_gp10']\n",
            "\n",
            "The N gene is 1260 bases long\n"
          ]
        }
      ]
    },
    {
      "cell_type": "code",
      "source": [
        "#get some info on that gene\n",
        "for gene_feature in features_genes:\n",
        "    if gene_feature.qualifiers['gene'] == ['ORF1ab']:\n",
        "        print(gene_feature)\n",
        "        print('The ORF gene is ' + str(len(gene_feature)) + \" bases long\")"
      ],
      "metadata": {
        "colab": {
          "base_uri": "https://localhost:8080/"
        },
        "id": "aghiBq0sLqcj",
        "outputId": "72b8c6d7-0282-419f-c846-41bc5ce5ec91"
      },
      "execution_count": 30,
      "outputs": [
        {
          "output_type": "stream",
          "name": "stdout",
          "text": [
            "type: gene\n",
            "location: [265:21555](+)\n",
            "qualifiers:\n",
            "    Key: db_xref, Value: ['GeneID:43740578']\n",
            "    Key: gene, Value: ['ORF1ab']\n",
            "    Key: locus_tag, Value: ['GU280_gp01']\n",
            "\n",
            "The ORF gene is 21290 bases long\n"
          ]
        }
      ]
    },
    {
      "cell_type": "code",
      "source": [
        "for gene_feature in features_genes:\n",
        "    if gene_feature.qualifiers['gene'] == ['M']:\n",
        "        print(gene_feature)\n",
        "        print('The M gene is ' + str(len(gene_feature)) + \" bases long\")"
      ],
      "metadata": {
        "colab": {
          "base_uri": "https://localhost:8080/"
        },
        "id": "bNVaPk5vL14H",
        "outputId": "5db3a1ab-a1dd-4bfd-aee4-f2836d8582fa"
      },
      "execution_count": 31,
      "outputs": [
        {
          "output_type": "stream",
          "name": "stdout",
          "text": [
            "type: gene\n",
            "location: [26522:27191](+)\n",
            "qualifiers:\n",
            "    Key: db_xref, Value: ['GeneID:43740571']\n",
            "    Key: gene, Value: ['M']\n",
            "    Key: locus_tag, Value: ['GU280_gp05']\n",
            "\n",
            "The M gene is 669 bases long\n"
          ]
        }
      ]
    },
    {
      "cell_type": "code",
      "source": [
        "for gene_feature in features_genes:\n",
        "    if gene_feature.qualifiers['gene'] == ['E']:\n",
        "        print(gene_feature)\n",
        "        print('The E gene is ' + str(len(gene_feature)) + \" bases long\")"
      ],
      "metadata": {
        "colab": {
          "base_uri": "https://localhost:8080/"
        },
        "id": "hZ11n3VSL6f1",
        "outputId": "ac0da5d4-2df5-42b9-9ad3-8542f0366f00"
      },
      "execution_count": 32,
      "outputs": [
        {
          "output_type": "stream",
          "name": "stdout",
          "text": [
            "type: gene\n",
            "location: [26244:26472](+)\n",
            "qualifiers:\n",
            "    Key: db_xref, Value: ['GeneID:43740570']\n",
            "    Key: gene, Value: ['E']\n",
            "    Key: locus_tag, Value: ['GU280_gp04']\n",
            "\n",
            "The E gene is 228 bases long\n"
          ]
        }
      ]
    },
    {
      "cell_type": "code",
      "source": [
        "#SAVE s gene from all the sequenses\n",
        "s_seqs = []\n",
        "CoV_seq = SeqIO.parse('/content/SARS_CoV-2.gb', 'genbank')\n",
        "\n",
        "for record in CoV_seq:\n",
        "    for feature in record.features:\n",
        "        if feature.type == 'gene' and feature.qualifiers['gene']==['S']:\n",
        "            new_rec = SeqRecord(seq=feature.extract(record.seq),id=record.id)\n",
        "            s_seqs.append(new_rec)\n"
      ],
      "metadata": {
        "id": "EtUqMZKaL-jw"
      },
      "execution_count": 35,
      "outputs": []
    },
    {
      "cell_type": "code",
      "source": [
        "N_seqs = []\n",
        "CoV_seq = SeqIO.parse('/content/SARS_CoV-2.gb', 'genbank')\n",
        "\n",
        "for record in CoV_seq:\n",
        "    for feature in record.features:\n",
        "        if feature.type == 'gene' and feature.qualifiers['gene']==['N']:\n",
        "            new_rec = SeqRecord(seq=feature.extract(record.seq),id=record.id)\n",
        "            N_seqs.append(new_rec)"
      ],
      "metadata": {
        "id": "WKq8CVFRMDsC"
      },
      "execution_count": 36,
      "outputs": []
    },
    {
      "cell_type": "code",
      "source": [
        "M_seqs = []\n",
        "CoV_seq = SeqIO.parse('/content/SARS_CoV-2.gb', 'genbank')\n",
        "\n",
        "for record in CoV_seq:\n",
        "    for feature in record.features:\n",
        "        if feature.type == 'gene' and feature.qualifiers['gene']==['M']:\n",
        "            new_rec = SeqRecord(seq=feature.extract(record.seq),id=record.id)\n",
        "            M_seqs.append(new_rec)"
      ],
      "metadata": {
        "id": "MPkxdHvBMSVk"
      },
      "execution_count": 37,
      "outputs": []
    },
    {
      "cell_type": "code",
      "source": [
        "E_seqs = []\n",
        "CoV_seq = SeqIO.parse('/content/SARS_CoV-2.gb', 'genbank')\n",
        "\n",
        "for record in CoV_seq:\n",
        "    for feature in record.features:\n",
        "        if feature.type == 'gene' and feature.qualifiers['gene']==['E']:\n",
        "            new_rec = SeqRecord(seq=feature.extract(record.seq),id=record.id)\n",
        "            E_seqs.append(new_rec)"
      ],
      "metadata": {
        "id": "cOdiLYwuMWCd"
      },
      "execution_count": 38,
      "outputs": []
    },
    {
      "cell_type": "code",
      "source": [
        "SeqIO.write(s_seqs, '/content/s_oro.fasta', 'fasta')"
      ],
      "metadata": {
        "colab": {
          "base_uri": "https://localhost:8080/"
        },
        "id": "PqXWpcHZMdBm",
        "outputId": "34167995-8ad9-4fae-812b-8d4afbcc6f1e"
      },
      "execution_count": 39,
      "outputs": [
        {
          "output_type": "execute_result",
          "data": {
            "text/plain": [
              "10"
            ]
          },
          "metadata": {},
          "execution_count": 39
        }
      ]
    },
    {
      "cell_type": "code",
      "source": [
        "SeqIO.write(N_seqs, '/content/N_oro.fasta', 'fasta')"
      ],
      "metadata": {
        "colab": {
          "base_uri": "https://localhost:8080/"
        },
        "id": "TMpUTDwLMmpR",
        "outputId": "5ae4e4c3-b6e3-4c71-bf6a-1d4d3dbef2a7"
      },
      "execution_count": 41,
      "outputs": [
        {
          "output_type": "execute_result",
          "data": {
            "text/plain": [
              "10"
            ]
          },
          "metadata": {},
          "execution_count": 41
        }
      ]
    },
    {
      "cell_type": "code",
      "source": [
        "SeqIO.write(M_seqs, '/content/M_oro.fasta', 'fasta')"
      ],
      "metadata": {
        "colab": {
          "base_uri": "https://localhost:8080/"
        },
        "id": "xM8Dv7K6MqkK",
        "outputId": "4e7ff211-4e27-45f0-c479-a68e0985fce3"
      },
      "execution_count": 42,
      "outputs": [
        {
          "output_type": "execute_result",
          "data": {
            "text/plain": [
              "10"
            ]
          },
          "metadata": {},
          "execution_count": 42
        }
      ]
    },
    {
      "cell_type": "code",
      "source": [
        "SeqIO.write(E_seqs, '/content/E_oro.fasta', 'fasta')"
      ],
      "metadata": {
        "colab": {
          "base_uri": "https://localhost:8080/"
        },
        "id": "PmhJXLzgMvlx",
        "outputId": "affa05e0-16e7-4608-a27d-4aa456294949"
      },
      "execution_count": 43,
      "outputs": [
        {
          "output_type": "execute_result",
          "data": {
            "text/plain": [
              "10"
            ]
          },
          "metadata": {},
          "execution_count": 43
        }
      ]
    },
    {
      "cell_type": "markdown",
      "source": [
        " # <font color=green> Step 3: Analysis </font>"
      ],
      "metadata": {
        "id": "LTZ05Ar7M7od"
      }
    },
    {
      "cell_type": "code",
      "source": [
        "s_oro = AlignIO.read('/content/s_oro_aligned.clustal_num', 'clustal')\n",
        "s_oro_summary_align = AlignInfo.SummaryInfo(s_oro)"
      ],
      "metadata": {
        "id": "jB2uuH98Myaf"
      },
      "execution_count": 48,
      "outputs": []
    },
    {
      "cell_type": "code",
      "source": [
        "s_oro_summary_align.dumb_consensus()"
      ],
      "metadata": {
        "colab": {
          "base_uri": "https://localhost:8080/"
        },
        "id": "OeRkUXzFM6aS",
        "outputId": "d91a2950-beea-493b-9d13-b7ec59ceb651"
      },
      "execution_count": 49,
      "outputs": [
        {
          "output_type": "execute_result",
          "data": {
            "text/plain": [
              "Seq('ATGTTTGTTTTTCTTGTTTTATTGCCACTAGTCTCTAGTCAGTGTGTTAATCTT...TAA')"
            ]
          },
          "metadata": {},
          "execution_count": 49
        }
      ]
    },
    {
      "cell_type": "code",
      "source": [
        "!pip install scikit-bio"
      ],
      "metadata": {
        "colab": {
          "base_uri": "https://localhost:8080/"
        },
        "id": "Nf_PlArlNS7t",
        "outputId": "947fb6e2-81e6-44f3-8bda-9bcca8677042"
      },
      "execution_count": 52,
      "outputs": [
        {
          "output_type": "stream",
          "name": "stdout",
          "text": [
            "Collecting scikit-bio\n",
            "  Downloading scikit-bio-0.5.9.tar.gz (3.5 MB)\n",
            "\u001b[2K     \u001b[90m━━━━━━━━━━━━━━━━━━━━━━━━━━━━━━━━━━━━━━━━\u001b[0m \u001b[32m3.5/3.5 MB\u001b[0m \u001b[31m11.4 MB/s\u001b[0m eta \u001b[36m0:00:00\u001b[0m\n",
            "\u001b[?25h  Installing build dependencies ... \u001b[?25l\u001b[?25hdone\n",
            "  Getting requirements to build wheel ... \u001b[?25l\u001b[?25hdone\n",
            "  Preparing metadata (pyproject.toml) ... \u001b[?25l\u001b[?25hdone\n",
            "Requirement already satisfied: requests>=2.20.0 in /usr/local/lib/python3.10/dist-packages (from scikit-bio) (2.31.0)\n",
            "Requirement already satisfied: decorator>=3.4.2 in /usr/local/lib/python3.10/dist-packages (from scikit-bio) (4.4.2)\n",
            "Requirement already satisfied: IPython>=3.2.0 in /usr/local/lib/python3.10/dist-packages (from scikit-bio) (7.34.0)\n",
            "Requirement already satisfied: matplotlib>=1.4.3 in /usr/local/lib/python3.10/dist-packages (from scikit-bio) (3.7.1)\n",
            "Requirement already satisfied: natsort>=4.0.3 in /usr/local/lib/python3.10/dist-packages (from scikit-bio) (8.3.1)\n",
            "Requirement already satisfied: numpy>=1.9.2 in /usr/local/lib/python3.10/dist-packages (from scikit-bio) (1.23.5)\n",
            "Requirement already satisfied: pandas>=1.5.0 in /usr/local/lib/python3.10/dist-packages (from scikit-bio) (1.5.3)\n",
            "Requirement already satisfied: scipy<=1.10.1 in /usr/local/lib/python3.10/dist-packages (from scikit-bio) (1.10.1)\n",
            "Requirement already satisfied: h5py>=3.6.0 in /usr/local/lib/python3.10/dist-packages (from scikit-bio) (3.8.0)\n",
            "Collecting hdmedians>=0.14.1 (from scikit-bio)\n",
            "  Downloading hdmedians-0.14.2.tar.gz (7.6 kB)\n",
            "  Installing build dependencies ... \u001b[?25l\u001b[?25hdone\n",
            "  Getting requirements to build wheel ... \u001b[?25l\u001b[?25hdone\n",
            "  Installing backend dependencies ... \u001b[?25l\u001b[?25hdone\n",
            "  Preparing metadata (pyproject.toml) ... \u001b[?25l\u001b[?25hdone\n",
            "Requirement already satisfied: Cython>=0.23 in /usr/local/lib/python3.10/dist-packages (from hdmedians>=0.14.1->scikit-bio) (0.29.36)\n",
            "Requirement already satisfied: setuptools>=18.5 in /usr/local/lib/python3.10/dist-packages (from IPython>=3.2.0->scikit-bio) (67.7.2)\n",
            "Collecting jedi>=0.16 (from IPython>=3.2.0->scikit-bio)\n",
            "  Downloading jedi-0.19.0-py2.py3-none-any.whl (1.6 MB)\n",
            "\u001b[2K     \u001b[90m━━━━━━━━━━━━━━━━━━━━━━━━━━━━━━━━━━━━━━━━\u001b[0m \u001b[32m1.6/1.6 MB\u001b[0m \u001b[31m20.7 MB/s\u001b[0m eta \u001b[36m0:00:00\u001b[0m\n",
            "\u001b[?25hRequirement already satisfied: pickleshare in /usr/local/lib/python3.10/dist-packages (from IPython>=3.2.0->scikit-bio) (0.7.5)\n",
            "Requirement already satisfied: traitlets>=4.2 in /usr/local/lib/python3.10/dist-packages (from IPython>=3.2.0->scikit-bio) (5.7.1)\n",
            "Requirement already satisfied: prompt-toolkit!=3.0.0,!=3.0.1,<3.1.0,>=2.0.0 in /usr/local/lib/python3.10/dist-packages (from IPython>=3.2.0->scikit-bio) (3.0.39)\n",
            "Requirement already satisfied: pygments in /usr/local/lib/python3.10/dist-packages (from IPython>=3.2.0->scikit-bio) (2.14.0)\n",
            "Requirement already satisfied: backcall in /usr/local/lib/python3.10/dist-packages (from IPython>=3.2.0->scikit-bio) (0.2.0)\n",
            "Requirement already satisfied: matplotlib-inline in /usr/local/lib/python3.10/dist-packages (from IPython>=3.2.0->scikit-bio) (0.1.6)\n",
            "Requirement already satisfied: pexpect>4.3 in /usr/local/lib/python3.10/dist-packages (from IPython>=3.2.0->scikit-bio) (4.8.0)\n",
            "Requirement already satisfied: contourpy>=1.0.1 in /usr/local/lib/python3.10/dist-packages (from matplotlib>=1.4.3->scikit-bio) (1.1.0)\n",
            "Requirement already satisfied: cycler>=0.10 in /usr/local/lib/python3.10/dist-packages (from matplotlib>=1.4.3->scikit-bio) (0.11.0)\n",
            "Requirement already satisfied: fonttools>=4.22.0 in /usr/local/lib/python3.10/dist-packages (from matplotlib>=1.4.3->scikit-bio) (4.42.0)\n",
            "Requirement already satisfied: kiwisolver>=1.0.1 in /usr/local/lib/python3.10/dist-packages (from matplotlib>=1.4.3->scikit-bio) (1.4.4)\n",
            "Requirement already satisfied: packaging>=20.0 in /usr/local/lib/python3.10/dist-packages (from matplotlib>=1.4.3->scikit-bio) (23.1)\n",
            "Requirement already satisfied: pillow>=6.2.0 in /usr/local/lib/python3.10/dist-packages (from matplotlib>=1.4.3->scikit-bio) (9.4.0)\n",
            "Requirement already satisfied: pyparsing>=2.3.1 in /usr/local/lib/python3.10/dist-packages (from matplotlib>=1.4.3->scikit-bio) (3.1.1)\n",
            "Requirement already satisfied: python-dateutil>=2.7 in /usr/local/lib/python3.10/dist-packages (from matplotlib>=1.4.3->scikit-bio) (2.8.2)\n",
            "Requirement already satisfied: pytz>=2020.1 in /usr/local/lib/python3.10/dist-packages (from pandas>=1.5.0->scikit-bio) (2022.7.1)\n",
            "Requirement already satisfied: charset-normalizer<4,>=2 in /usr/local/lib/python3.10/dist-packages (from requests>=2.20.0->scikit-bio) (3.2.0)\n",
            "Requirement already satisfied: idna<4,>=2.5 in /usr/local/lib/python3.10/dist-packages (from requests>=2.20.0->scikit-bio) (3.4)\n",
            "Requirement already satisfied: urllib3<3,>=1.21.1 in /usr/local/lib/python3.10/dist-packages (from requests>=2.20.0->scikit-bio) (1.26.16)\n",
            "Requirement already satisfied: certifi>=2017.4.17 in /usr/local/lib/python3.10/dist-packages (from requests>=2.20.0->scikit-bio) (2023.7.22)\n",
            "Requirement already satisfied: parso<0.9.0,>=0.8.3 in /usr/local/lib/python3.10/dist-packages (from jedi>=0.16->IPython>=3.2.0->scikit-bio) (0.8.3)\n",
            "Requirement already satisfied: ptyprocess>=0.5 in /usr/local/lib/python3.10/dist-packages (from pexpect>4.3->IPython>=3.2.0->scikit-bio) (0.7.0)\n",
            "Requirement already satisfied: wcwidth in /usr/local/lib/python3.10/dist-packages (from prompt-toolkit!=3.0.0,!=3.0.1,<3.1.0,>=2.0.0->IPython>=3.2.0->scikit-bio) (0.2.6)\n",
            "Requirement already satisfied: six>=1.5 in /usr/local/lib/python3.10/dist-packages (from python-dateutil>=2.7->matplotlib>=1.4.3->scikit-bio) (1.16.0)\n",
            "Building wheels for collected packages: scikit-bio, hdmedians\n",
            "  Building wheel for scikit-bio (pyproject.toml) ... \u001b[?25l\u001b[?25hdone\n",
            "  Created wheel for scikit-bio: filename=scikit_bio-0.5.9-cp310-cp310-linux_x86_64.whl size=2469060 sha256=6f3bc75769d3174b309c28fb8134c2061a865c63ed71d315087cfa7a7697b22a\n",
            "  Stored in directory: /root/.cache/pip/wheels/77/72/2c/993efbb4d69a86bee422bc96e4e2f1ec9af7cc596a08bb86e1\n",
            "  Building wheel for hdmedians (pyproject.toml) ... \u001b[?25l\u001b[?25hdone\n",
            "  Created wheel for hdmedians: filename=hdmedians-0.14.2-cp310-cp310-linux_x86_64.whl size=678991 sha256=81c88299a350ca14f172f747771ae9e879103fa9c7548cc21b3c05da170f4a35\n",
            "  Stored in directory: /root/.cache/pip/wheels/82/8f/0d/0c61130cfad119482ebb95aecf8d5dfaddd0181f5680da2bec\n",
            "Successfully built scikit-bio hdmedians\n",
            "Installing collected packages: jedi, hdmedians, scikit-bio\n",
            "Successfully installed hdmedians-0.14.2 jedi-0.19.0 scikit-bio-0.5.9\n"
          ]
        }
      ]
    },
    {
      "cell_type": "code",
      "source": [
        "#using skbio to calculate the estimate of comservation\n",
        "from skbio import DNA, TabularMSA"
      ],
      "metadata": {
        "id": "al7epeLrNOFc"
      },
      "execution_count": 53,
      "outputs": []
    },
    {
      "cell_type": "code",
      "source": [
        "S_oro_align = AlignIO.convert('s_oro_aligned.clustal_num','clustal', 's_oro_aligned.fasta','fasta')\n",
        "N_oro_align = AlignIO.convert('n_oro_aligned.clustal_num','clustal', 'N_oro_aligned.fasta','fasta')\n",
        "ORF1ab_oro_align = AlignIO.convert('ORF1ab_oro_aligned.clustal_num','clustal', 'orf1ab_oro_aligned.fasta','fasta')\n",
        "M_oro_align = AlignIO.convert('M_oro_aligned.clustal_num','clustal', 'M_oro_aligned.fasta','fasta')\n",
        "E_oro_align = AlignIO.convert('E_oro_aligned.clustal_num','clustal', 'E_oro_aligned.fasta','fasta')\n",
        "rdrp_oro_align = AlignIO.convert('rdrp_oro_aligned.clustal_num','clustal', 'rdrp_oro_aligned.fasta','fasta')"
      ],
      "metadata": {
        "id": "OL3dNjF-NRwQ"
      },
      "execution_count": 55,
      "outputs": []
    },
    {
      "cell_type": "code",
      "source": [
        "S_oro_align_MSA = TabularMSA.read('s_oro_aligned.fasta',format='fasta', constructor=DNA)\n",
        "S_oro_align_MSA.reassign_index(minter='id')\n",
        "S_oro_align_MSA"
      ],
      "metadata": {
        "colab": {
          "base_uri": "https://localhost:8080/"
        },
        "id": "Jz0Cx2QUPipb",
        "outputId": "7d335e72-21f1-4102-fc99-b7fbaf3ea926"
      },
      "execution_count": 56,
      "outputs": [
        {
          "output_type": "execute_result",
          "data": {
            "text/plain": [
              "TabularMSA[DNA]\n",
              "-----------------------------------------------------------------------\n",
              "Stats:\n",
              "    sequence count: 11\n",
              "    position count: 3822\n",
              "-----------------------------------------------------------------------\n",
              "ATGTTTGTTTTTCTTGTTTTATTGCCACTAGTC ... GTGCTCAAAGGAGTCAAATTACATTACACATAA\n",
              "ATGTTTGTTTTTCTTGTTTTATTGCCACTAGTC ... GTGCTCAAAGGAGTCAAATTACATTACACATAA\n",
              "...\n",
              "ATGTTTGTTTTTCTTGTTTTATTGCCACTAGTC ... GTGCTCAAAGGAGTCAAATTACATTACACATAA\n",
              "ATGTTTGTTTTTCTTGTTTTATTGCCACTAGTC ... GTGCTCAAAGGAGTCAAATTACATTACACATAA"
            ]
          },
          "metadata": {},
          "execution_count": 56
        }
      ]
    },
    {
      "cell_type": "code",
      "source": [
        "N_oro_align_MSA = TabularMSA.read('N_oro_aligned.fasta',format='fasta', constructor=DNA)\n",
        "N_oro_align_MSA.reassign_index(minter='id')\n",
        "N_oro_align_MSA"
      ],
      "metadata": {
        "colab": {
          "base_uri": "https://localhost:8080/"
        },
        "id": "jVO15e90P49y",
        "outputId": "fbfc7fb7-6aee-437f-e162-13f33311268f"
      },
      "execution_count": 57,
      "outputs": [
        {
          "output_type": "execute_result",
          "data": {
            "text/plain": [
              "TabularMSA[DNA]\n",
              "-----------------------------------------------------------------------\n",
              "Stats:\n",
              "    sequence count: 11\n",
              "    position count: 1260\n",
              "-----------------------------------------------------------------------\n",
              "ATGTCTGATAATGGACCCCAAAATCAGCGAAAT ... TCCATGAGCAGTGCTGACTCAACTCAGGCCTAA\n",
              "ATGTCTGATAATGGACCCCAAAATCAGCGAAAT ... TCCATGAGCAGTGCTGACTCAACTCAGGCCTAA\n",
              "...\n",
              "ATGTCTGATAATGGACCCCAAAATCAGCGAAAT ... TCCATGAGCAGTGCTGACTCAACTCAGGCCTAA\n",
              "ATGTCTGATAATGGACCCCAAAATCAGCGAAAT ... TCCATGAGCAGTGCTGACTCAACTCAGGCCTAA"
            ]
          },
          "metadata": {},
          "execution_count": 57
        }
      ]
    },
    {
      "cell_type": "code",
      "source": [
        "M_oro_align_MSA = TabularMSA.read('M_oro_aligned.fasta',format='fasta', constructor=DNA)\n",
        "M_oro_align_MSA.reassign_index(minter='id')\n",
        "M_oro_align_MSA"
      ],
      "metadata": {
        "colab": {
          "base_uri": "https://localhost:8080/"
        },
        "id": "C2l8UZMOP60u",
        "outputId": "212d73b5-cdca-43b0-c833-3cb2810194de"
      },
      "execution_count": 58,
      "outputs": [
        {
          "output_type": "execute_result",
          "data": {
            "text/plain": [
              "TabularMSA[DNA]\n",
              "-----------------------------------------------------------------------\n",
              "Stats:\n",
              "    sequence count: 11\n",
              "    position count: 669\n",
              "-----------------------------------------------------------------------\n",
              "ATGGCAAATTCCAACGGTACTATTACCGTTGAA ... AGCAGTGACAATATTGCTTTGCTTGTACAGTAA\n",
              "ATGGCAGATTCCAACGGTACTATTACCGTTGAA ... AGCAGTGACAATATTGCTTTGCTTGTACAGTAA\n",
              "...\n",
              "ATGGCAGATTCCAACGGTACTATTACCGTTGAA ... AGCAGTGACAATATTGCTTTGCTTGTACAGTAA\n",
              "ATGGCAGATTCCAACGGTACTATTACCGTTGAA ... AGCAGTGACAATATTGCTTTGCTTGTACAGTAA"
            ]
          },
          "metadata": {},
          "execution_count": 58
        }
      ]
    },
    {
      "cell_type": "code",
      "source": [
        "E_oro_align_MSA = TabularMSA.read('E_oro_aligned.fasta',format='fasta', constructor=DNA)\n",
        "E_oro_align_MSA.reassign_index(minter='id')\n",
        "E_oro_align_MSA"
      ],
      "metadata": {
        "colab": {
          "base_uri": "https://localhost:8080/"
        },
        "id": "XtERVKgTQewx",
        "outputId": "7f1f0339-2fec-4a53-d6f1-0ce86405d915"
      },
      "execution_count": 65,
      "outputs": [
        {
          "output_type": "execute_result",
          "data": {
            "text/plain": [
              "TabularMSA[DNA]\n",
              "-----------------------------------------------------------------------\n",
              "Stats:\n",
              "    sequence count: 11\n",
              "    position count: 228\n",
              "-----------------------------------------------------------------------\n",
              "ATGTACTCATTCGTTTCGGAAGAGACAGGTACG ... AATTCTTCTAGAGTTCCTGATCTTCTGGTCTAA\n",
              "ATGTACTCATTCGTTTCGGAAGAGACAGGTACG ... AATTCTTCTAGAGTTCCTGATCTTCTGGTCTAA\n",
              "...\n",
              "ATGTACTCATTCGTTTCGGAAGAGACAGGTACG ... AATTCTTCTAGAGTTCCTGATCTTCTGGTCTAA\n",
              "ATGTACTCATTCGTTTCGGAAGAGACAGGTACG ... AATTCTTCTAGAGTTCCTGATCTTCTGGTCTAA"
            ]
          },
          "metadata": {},
          "execution_count": 65
        }
      ]
    },
    {
      "cell_type": "code",
      "source": [
        "rdrp_oro_align_MSA = TabularMSA.read('rdrp_oro_aligned.fasta',format='fasta', constructor=DNA)\n",
        "rdrp_oro_align_MSA.reassign_index(minter='id')\n",
        "rdrp_oro_align_MSA"
      ],
      "metadata": {
        "colab": {
          "base_uri": "https://localhost:8080/"
        },
        "id": "gFRnmdOMP-wL",
        "outputId": "83167815-82bf-40ec-8f25-395b4e8ada7d"
      },
      "execution_count": 59,
      "outputs": [
        {
          "output_type": "execute_result",
          "data": {
            "text/plain": [
              "TabularMSA[DNA]\n",
              "-----------------------------------------------------------------------\n",
              "Stats:\n",
              "    sequence count: 11\n",
              "    position count: 2796\n",
              "-----------------------------------------------------------------------\n",
              "TCAGCTGATGCACAATCGTTTTTAAACCGGGTT ... GAGGCTATGTACACACCGCATACAGTCTTACAG\n",
              "TCAGCTGATGCACAATCGTTTTTAAACCGGGTT ... GAGGCTATGTACACACCGCATACAGTCTTACAG\n",
              "...\n",
              "TCAGCTGATGCACAATCGTTTTTAAACCGGGTT ... GAGGCTATGTACACACCGCATACAGTCTTACAG\n",
              "TCAGCTGATGCACAATCGTTTTTAAACCGGGTT ... GAGGCTATGTACACACCGCATACAGTCTTACAG"
            ]
          },
          "metadata": {},
          "execution_count": 59
        }
      ]
    },
    {
      "cell_type": "code",
      "source": [
        "S_oro_conserved_array = S_oro_align_MSA.conservation(degenerate_mode='nan',gap_mode='include')\n",
        "S_oro_conserved_array"
      ],
      "metadata": {
        "colab": {
          "base_uri": "https://localhost:8080/"
        },
        "id": "f8oh0j0wQEGC",
        "outputId": "edab1d9d-d6a7-4607-e633-081d6ed09ebd"
      },
      "execution_count": 60,
      "outputs": [
        {
          "output_type": "execute_result",
          "data": {
            "text/plain": [
              "array([1., 1., 1., ..., 1., 1., 1.])"
            ]
          },
          "metadata": {},
          "execution_count": 60
        }
      ]
    },
    {
      "cell_type": "code",
      "source": [
        "N_oro_conserved_array = N_oro_align_MSA.conservation(degenerate_mode='nan',gap_mode='include')\n",
        "N_oro_conserved_array"
      ],
      "metadata": {
        "colab": {
          "base_uri": "https://localhost:8080/"
        },
        "id": "JYZJuQYnQF_T",
        "outputId": "1b174d09-7ed5-47c6-cfa1-97a36f67ba92"
      },
      "execution_count": 61,
      "outputs": [
        {
          "output_type": "execute_result",
          "data": {
            "text/plain": [
              "array([1., 1., 1., ..., 1., 1., 1.])"
            ]
          },
          "metadata": {},
          "execution_count": 61
        }
      ]
    },
    {
      "cell_type": "code",
      "source": [
        "M_oro_conserved_array = M_oro_align_MSA.conservation(degenerate_mode='nan',gap_mode='include')\n",
        "M_oro_conserved_array"
      ],
      "metadata": {
        "colab": {
          "base_uri": "https://localhost:8080/"
        },
        "id": "lL3u6GzIQInh",
        "outputId": "02f1ccfa-b9ac-4819-e348-a42fa7d7a160"
      },
      "execution_count": 62,
      "outputs": [
        {
          "output_type": "execute_result",
          "data": {
            "text/plain": [
              "array([1.        , 1.        , 1.        , 1.        , 1.        ,\n",
              "       1.        , 0.81071895, 1.        , 1.        , 1.        ,\n",
              "       1.        , 1.        , 1.        , 1.        , 1.        ,\n",
              "       1.        , 1.        , 1.        , 1.        , 1.        ,\n",
              "       1.        , 1.        , 1.        , 1.        , 1.        ,\n",
              "       1.        , 1.        , 1.        , 1.        , 1.        ,\n",
              "       1.        , 1.        , 1.        , 1.        , 1.        ,\n",
              "       1.        , 1.        , 1.        , 1.        , 1.        ,\n",
              "       1.        , 1.        , 1.        , 1.        , 1.        ,\n",
              "       1.        , 1.        , 1.        , 1.        , 1.        ,\n",
              "       1.        , 1.        , 1.        , 1.        , 0.81071895,\n",
              "       1.        , 1.        , 1.        , 1.        , 1.        ,\n",
              "       1.        , 1.        , 1.        , 1.        , 1.        ,\n",
              "       1.        , 1.        , 1.        , 1.        , 1.        ,\n",
              "       1.        , 1.        , 1.        , 1.        , 1.        ,\n",
              "       1.        , 1.        , 1.        , 1.        , 1.        ,\n",
              "       1.        , 1.        , 1.        , 1.        , 1.        ,\n",
              "       1.        , 1.        , 1.        , 1.        , 1.        ,\n",
              "       1.        , 1.        , 1.        , 1.        , 1.        ,\n",
              "       1.        , 1.        , 1.        , 1.        , 1.        ,\n",
              "       1.        , 1.        , 1.        , 1.        , 1.        ,\n",
              "       1.        , 1.        , 1.        , 1.        , 1.        ,\n",
              "       1.        , 1.        , 1.        , 1.        , 1.        ,\n",
              "       1.        , 1.        , 1.        , 1.        , 1.        ,\n",
              "       1.        , 1.        , 1.        , 1.        , 1.        ,\n",
              "       1.        , 1.        , 1.        , 1.        , 1.        ,\n",
              "       1.        , 1.        , 1.        , 1.        , 1.        ,\n",
              "       1.        , 1.        , 1.        , 1.        , 1.        ,\n",
              "       1.        , 1.        , 1.        , 1.        , 1.        ,\n",
              "       1.        , 1.        , 1.        , 1.        , 1.        ,\n",
              "       1.        , 1.        , 1.        , 1.        , 1.        ,\n",
              "       1.        , 1.        , 1.        , 1.        , 1.        ,\n",
              "       1.        , 1.        , 1.        , 1.        , 1.        ,\n",
              "       1.        , 1.        , 1.        , 1.        , 1.        ,\n",
              "       1.        , 1.        , 1.        , 1.        , 1.        ,\n",
              "       1.        , 1.        , 1.        , 1.        , 1.        ,\n",
              "       1.        , 1.        , 1.        , 1.        , 1.        ,\n",
              "       1.        , 0.63592717, 1.        , 1.        , 1.        ,\n",
              "       1.        , 1.        , 1.        , 1.        , 1.        ,\n",
              "       1.        , 1.        , 1.        , 1.        , 1.        ,\n",
              "       1.        , 1.        , 1.        , 1.        , 1.        ,\n",
              "       1.        , 1.        , 1.        , 1.        , 1.        ,\n",
              "       1.        , 1.        , 1.        , 1.        , 1.        ,\n",
              "       1.        , 1.        , 1.        , 1.        , 1.        ,\n",
              "       1.        , 1.        , 1.        , 1.        , 1.        ,\n",
              "       1.        , 1.        , 1.        , 1.        , 1.        ,\n",
              "       1.        , 1.        , 1.        , 1.        , 1.        ,\n",
              "       1.        , 1.        , 1.        , 1.        , 1.        ,\n",
              "       1.        , 1.        , 1.        , 1.        , 1.        ,\n",
              "       1.        , 1.        , 1.        , 1.        , 1.        ,\n",
              "       1.        , 1.        , 1.        , 1.        , 1.        ,\n",
              "       1.        , 1.        , 1.        , 1.        , 1.        ,\n",
              "       1.        , 1.        , 1.        , 1.        , 1.        ,\n",
              "       1.        , 1.        , 1.        , 1.        , 1.        ,\n",
              "       1.        , 1.        , 1.        , 1.        , 1.        ,\n",
              "       1.        , 1.        , 1.        , 1.        , 1.        ,\n",
              "       1.        , 1.        , 1.        , 1.        , 1.        ,\n",
              "       1.        , 1.        , 1.        , 1.        , 1.        ,\n",
              "       1.        , 1.        , 1.        , 1.        , 1.        ,\n",
              "       1.        , 1.        , 1.        , 1.        , 1.        ,\n",
              "       1.        , 1.        , 1.        , 1.        , 1.        ,\n",
              "       1.        , 1.        , 1.        , 1.        , 1.        ,\n",
              "       1.        , 1.        , 1.        , 1.        , 1.        ,\n",
              "       1.        , 1.        , 1.        , 1.        , 1.        ,\n",
              "       1.        , 1.        , 1.        , 1.        , 1.        ,\n",
              "       1.        , 1.        , 1.        , 1.        , 1.        ,\n",
              "       1.        , 1.        , 1.        , 1.        , 1.        ,\n",
              "       0.70540068, 1.        , 1.        , 1.        , 1.        ,\n",
              "       1.        , 1.        , 1.        , 1.        , 1.        ,\n",
              "       1.        , 1.        , 1.        , 1.        , 1.        ,\n",
              "       1.        , 1.        , 1.        , 1.        , 1.        ,\n",
              "       1.        , 1.        , 1.        , 1.        , 1.        ,\n",
              "       1.        , 1.        , 1.        , 1.        , 1.        ,\n",
              "       1.        , 1.        , 1.        , 1.        , 1.        ,\n",
              "       1.        , 1.        , 1.        , 1.        , 1.        ,\n",
              "       1.        , 1.        , 1.        , 1.        , 1.        ,\n",
              "       1.        , 1.        , 1.        , 1.        , 1.        ,\n",
              "       1.        , 1.        , 1.        , 1.        , 1.        ,\n",
              "       1.        , 1.        , 1.        , 1.        , 1.        ,\n",
              "       1.        , 1.        , 1.        , 1.        , 1.        ,\n",
              "       1.        , 1.        , 1.        , 1.        , 1.        ,\n",
              "       1.        , 1.        , 1.        , 1.        , 1.        ,\n",
              "       1.        , 1.        , 1.        , 1.        , 1.        ,\n",
              "       1.        , 1.        , 1.        , 1.        , 1.        ,\n",
              "       1.        , 1.        , 1.        , 1.        , 1.        ,\n",
              "       1.        , 1.        , 1.        , 1.        , 1.        ,\n",
              "       1.        , 1.        , 1.        , 1.        , 1.        ,\n",
              "       1.        , 1.        , 1.        , 1.        , 1.        ,\n",
              "       1.        , 1.        , 1.        , 1.        , 1.        ,\n",
              "       1.        , 1.        , 1.        , 1.        , 1.        ,\n",
              "       1.        , 1.        , 1.        , 1.        , 1.        ,\n",
              "       1.        , 1.        , 1.        , 1.        , 1.        ,\n",
              "       1.        , 1.        , 1.        , 1.        , 1.        ,\n",
              "       1.        , 1.        , 1.        , 1.        , 1.        ,\n",
              "       1.        , 1.        , 1.        , 1.        , 1.        ,\n",
              "       1.        , 1.        , 1.        , 1.        , 1.        ,\n",
              "       1.        , 1.        , 1.        , 1.        , 1.        ,\n",
              "       1.        , 1.        , 1.        , 1.        , 0.81071895,\n",
              "       1.        , 1.        , 1.        , 1.        , 1.        ,\n",
              "       1.        , 1.        , 1.        , 1.        , 1.        ,\n",
              "       1.        , 1.        , 1.        , 1.        , 1.        ,\n",
              "       1.        , 1.        , 1.        , 1.        , 1.        ,\n",
              "       1.        , 1.        , 1.        , 1.        , 1.        ,\n",
              "       1.        , 1.        , 1.        , 1.        , 1.        ,\n",
              "       1.        , 1.        , 1.        , 1.        , 1.        ,\n",
              "       1.        , 1.        , 1.        , 1.        , 1.        ,\n",
              "       1.        , 1.        , 1.        , 1.        , 1.        ,\n",
              "       1.        , 1.        , 1.        , 1.        , 1.        ,\n",
              "       1.        , 1.        , 1.        , 1.        , 1.        ,\n",
              "       1.        , 1.        , 1.        , 1.        , 1.        ,\n",
              "       1.        , 1.        , 1.        , 1.        , 1.        ,\n",
              "       1.        , 1.        , 1.        , 1.        , 1.        ,\n",
              "       1.        , 1.        , 1.        , 1.        , 1.        ,\n",
              "       1.        , 1.        , 1.        , 1.        , 1.        ,\n",
              "       1.        , 1.        , 1.        , 1.        , 1.        ,\n",
              "       1.        , 1.        , 1.        , 1.        , 1.        ,\n",
              "       1.        , 1.        , 1.        , 1.        , 1.        ,\n",
              "       1.        , 1.        , 1.        , 1.        , 1.        ,\n",
              "       1.        , 1.        , 1.        , 1.        , 1.        ,\n",
              "       1.        , 1.        , 1.        , 1.        , 1.        ,\n",
              "       1.        , 1.        , 1.        , 1.        , 1.        ,\n",
              "       1.        , 1.        , 1.        , 1.        , 1.        ,\n",
              "       1.        , 1.        , 1.        , 1.        , 1.        ,\n",
              "       1.        , 1.        , 1.        , 1.        , 1.        ,\n",
              "       1.        , 1.        , 1.        , 1.        , 1.        ,\n",
              "       1.        , 1.        , 1.        , 1.        , 1.        ,\n",
              "       1.        , 1.        , 1.        , 1.        , 1.        ,\n",
              "       1.        , 1.        , 1.        , 1.        , 1.        ,\n",
              "       1.        , 1.        , 1.        , 1.        , 1.        ,\n",
              "       1.        , 1.        , 1.        , 1.        , 1.        ,\n",
              "       1.        , 1.        , 1.        , 1.        , 1.        ,\n",
              "       1.        , 1.        , 1.        , 1.        , 1.        ,\n",
              "       1.        , 1.        , 1.        , 1.        , 1.        ,\n",
              "       1.        , 1.        , 1.        , 1.        ])"
            ]
          },
          "metadata": {},
          "execution_count": 62
        }
      ]
    },
    {
      "cell_type": "code",
      "source": [
        "E_oro_conserved_array = E_oro_align_MSA.conservation(degenerate_mode='nan',gap_mode='include')\n",
        "E_oro_conserved_array"
      ],
      "metadata": {
        "colab": {
          "base_uri": "https://localhost:8080/"
        },
        "id": "0es8FwnsQMRg",
        "outputId": "f44ddb19-996a-4415-a4f4-d6b1ad49202b"
      },
      "execution_count": 66,
      "outputs": [
        {
          "output_type": "execute_result",
          "data": {
            "text/plain": [
              "array([1., 1., 1., 1., 1., 1., 1., 1., 1., 1., 1., 1., 1., 1., 1., 1., 1.,\n",
              "       1., 1., 1., 1., 1., 1., 1., 1., 1., 1., 1., 1., 1., 1., 1., 1., 1.,\n",
              "       1., 1., 1., 1., 1., 1., 1., 1., 1., 1., 1., 1., 1., 1., 1., 1., 1.,\n",
              "       1., 1., 1., 1., 1., 1., 1., 1., 1., 1., 1., 1., 1., 1., 1., 1., 1.,\n",
              "       1., 1., 1., 1., 1., 1., 1., 1., 1., 1., 1., 1., 1., 1., 1., 1., 1.,\n",
              "       1., 1., 1., 1., 1., 1., 1., 1., 1., 1., 1., 1., 1., 1., 1., 1., 1.,\n",
              "       1., 1., 1., 1., 1., 1., 1., 1., 1., 1., 1., 1., 1., 1., 1., 1., 1.,\n",
              "       1., 1., 1., 1., 1., 1., 1., 1., 1., 1., 1., 1., 1., 1., 1., 1., 1.,\n",
              "       1., 1., 1., 1., 1., 1., 1., 1., 1., 1., 1., 1., 1., 1., 1., 1., 1.,\n",
              "       1., 1., 1., 1., 1., 1., 1., 1., 1., 1., 1., 1., 1., 1., 1., 1., 1.,\n",
              "       1., 1., 1., 1., 1., 1., 1., 1., 1., 1., 1., 1., 1., 1., 1., 1., 1.,\n",
              "       1., 1., 1., 1., 1., 1., 1., 1., 1., 1., 1., 1., 1., 1., 1., 1., 1.,\n",
              "       1., 1., 1., 1., 1., 1., 1., 1., 1., 1., 1., 1., 1., 1., 1., 1., 1.,\n",
              "       1., 1., 1., 1., 1., 1., 1.])"
            ]
          },
          "metadata": {},
          "execution_count": 66
        }
      ]
    },
    {
      "cell_type": "code",
      "source": [
        "rdrp_oro_conserved_array = rdrp_oro_align_MSA.conservation(degenerate_mode='nan',gap_mode='include')\n",
        "rdrp_oro_conserved_array"
      ],
      "metadata": {
        "colab": {
          "base_uri": "https://localhost:8080/"
        },
        "id": "eZphyDTvQPX-",
        "outputId": "168f6d1b-ee17-4d1c-a008-a8fde9eb7775"
      },
      "execution_count": 64,
      "outputs": [
        {
          "output_type": "execute_result",
          "data": {
            "text/plain": [
              "array([1., 1., 1., ..., 1., 1., 1.])"
            ]
          },
          "metadata": {},
          "execution_count": 64
        }
      ]
    },
    {
      "cell_type": "code",
      "source": [
        "S_oro_total_conserved = (S_oro_conserved_array == 1).sum()"
      ],
      "metadata": {
        "id": "z_nr_PF-QSQv"
      },
      "execution_count": 67,
      "outputs": []
    },
    {
      "cell_type": "code",
      "source": [
        "N_oro_total_conserved = (N_oro_conserved_array == 1).sum()"
      ],
      "metadata": {
        "id": "08mgISIUQnBw"
      },
      "execution_count": 68,
      "outputs": []
    },
    {
      "cell_type": "code",
      "source": [
        "M_oro_total_conserved = (M_oro_conserved_array == 1).sum()"
      ],
      "metadata": {
        "id": "ZPewn-U-QpPg"
      },
      "execution_count": 69,
      "outputs": []
    },
    {
      "cell_type": "code",
      "source": [
        "E_oro_total_conserved = (E_oro_conserved_array == 1).sum()"
      ],
      "metadata": {
        "id": "G6EVGKJeQqtX"
      },
      "execution_count": 70,
      "outputs": []
    },
    {
      "cell_type": "code",
      "source": [
        "rdrp_oro_total_conserved = (rdrp_oro_conserved_array == 1).sum()"
      ],
      "metadata": {
        "id": "wweLrsFTQsZz"
      },
      "execution_count": 71,
      "outputs": []
    },
    {
      "cell_type": "code",
      "source": [
        "S_oro_total_conserved/(len(S_oro_conserved_array))"
      ],
      "metadata": {
        "colab": {
          "base_uri": "https://localhost:8080/"
        },
        "id": "nOIWz9TfQuAd",
        "outputId": "2ad3c68f-b0dd-4636-b1aa-6664abc7c966"
      },
      "execution_count": 72,
      "outputs": [
        {
          "output_type": "execute_result",
          "data": {
            "text/plain": [
              "0.9916274201988488"
            ]
          },
          "metadata": {},
          "execution_count": 72
        }
      ]
    },
    {
      "cell_type": "code",
      "source": [
        "N_oro_total_conserved/(len(N_oro_conserved_array))"
      ],
      "metadata": {
        "colab": {
          "base_uri": "https://localhost:8080/"
        },
        "id": "i-Fom1zlQxod",
        "outputId": "b9b886ac-bf0f-4274-abdf-e20a4b995408"
      },
      "execution_count": 73,
      "outputs": [
        {
          "output_type": "execute_result",
          "data": {
            "text/plain": [
              "0.9865079365079366"
            ]
          },
          "metadata": {},
          "execution_count": 73
        }
      ]
    },
    {
      "cell_type": "code",
      "source": [
        "M_oro_total_conserved/(len(M_oro_conserved_array))"
      ],
      "metadata": {
        "colab": {
          "base_uri": "https://localhost:8080/"
        },
        "id": "4O2GLmzdQ1Cx",
        "outputId": "de719cdd-9dd0-4607-d5ee-66fd24a90d20"
      },
      "execution_count": 74,
      "outputs": [
        {
          "output_type": "execute_result",
          "data": {
            "text/plain": [
              "0.992526158445441"
            ]
          },
          "metadata": {},
          "execution_count": 74
        }
      ]
    },
    {
      "cell_type": "code",
      "source": [
        "E_oro_total_conserved/(len(E_oro_conserved_array))"
      ],
      "metadata": {
        "colab": {
          "base_uri": "https://localhost:8080/"
        },
        "id": "6S6EZl5oQ4E5",
        "outputId": "0890a530-d707-4b8e-ae4c-ab2d72e528ae"
      },
      "execution_count": 75,
      "outputs": [
        {
          "output_type": "execute_result",
          "data": {
            "text/plain": [
              "1.0"
            ]
          },
          "metadata": {},
          "execution_count": 75
        }
      ]
    },
    {
      "cell_type": "code",
      "source": [
        "rdrp_oro_total_conserved/(len(rdrp_oro_conserved_array))"
      ],
      "metadata": {
        "colab": {
          "base_uri": "https://localhost:8080/"
        },
        "id": "L9Il149gQ57x",
        "outputId": "e6e4a475-efe5-4ed9-a5c4-a4766a0cf102"
      },
      "execution_count": 76,
      "outputs": [
        {
          "output_type": "execute_result",
          "data": {
            "text/plain": [
              "0.9989270386266095"
            ]
          },
          "metadata": {},
          "execution_count": 76
        }
      ]
    },
    {
      "cell_type": "code",
      "source": [
        "import matplotlib.pyplot as plt"
      ],
      "metadata": {
        "id": "nUS3ef_qQ8iH"
      },
      "execution_count": 77,
      "outputs": []
    },
    {
      "cell_type": "code",
      "source": [
        "y1=[0.9916274201988488,0.9865079365079366,0.992526158445441,1.0,0.9989270386266095]\n",
        "x1=[\"S\",\"N\",\"M\",\"E\",\"RDRP\"]\n",
        "plt.bar(x1, y1)\n",
        "plt.plot()\n",
        "\n",
        "plt.xlabel(\"genes\")\n",
        "plt.ylabel(\"Conservation (%)\")\n",
        "plt.title(\"Genes conservation persentage\")\n",
        "plt.legend()\n",
        "plt.show()"
      ],
      "metadata": {
        "colab": {
          "base_uri": "https://localhost:8080/",
          "height": 509
        },
        "id": "IhKJ67TLRPLM",
        "outputId": "4ed36e4b-44bf-4d61-a1ee-80e9e149a6ed"
      },
      "execution_count": 82,
      "outputs": [
        {
          "output_type": "stream",
          "name": "stderr",
          "text": [
            "WARNING:matplotlib.legend:No artists with labels found to put in legend.  Note that artists whose label start with an underscore are ignored when legend() is called with no argument.\n"
          ]
        },
        {
          "output_type": "display_data",
          "data": {
            "text/plain": [
              "<Figure size 640x480 with 1 Axes>"
            ],
            "image/png": "[encoded data removed]"
          },
          "metadata": {}
        }
      ]
    },
    {
      "cell_type": "code",
      "source": [],
      "metadata": {
        "id": "6deelfAWR9Lj"
      },
      "execution_count": null,
      "outputs": []
    }
  ]
}